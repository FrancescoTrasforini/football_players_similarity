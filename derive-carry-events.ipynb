{
 "cells": [
  {
   "cell_type": "code",
   "execution_count": 1,
   "metadata": {},
   "outputs": [
    {
     "name": "stderr",
     "output_type": "stream",
     "text": [
      "C:\\Users\\Francesco\\AppData\\Local\\Temp\\ipykernel_7560\\967623533.py:13: DtypeWarning: Columns (258) have mixed types. Specify dtype option on import or set low_memory=False.\n",
      "  df = pd.read_csv(file_path)\n",
      "C:\\Users\\Francesco\\AppData\\Local\\Temp\\ipykernel_7560\\967623533.py:30: SettingWithCopyWarning: \n",
      "A value is trying to be set on a copy of a slice from a DataFrame.\n",
      "Try using .loc[row_indexer,col_indexer] = value instead\n",
      "\n",
      "See the caveats in the documentation: https://pandas.pydata.org/pandas-docs/stable/user_guide/indexing.html#returning-a-view-versus-a-copy\n",
      "  match_df[col] = match_df[col].apply(rescale, args=(old_min, old_max, new_min, new_max))\n",
      "C:\\Users\\Francesco\\AppData\\Local\\Temp\\ipykernel_7560\\967623533.py:30: SettingWithCopyWarning: \n",
      "A value is trying to be set on a copy of a slice from a DataFrame.\n",
      "Try using .loc[row_indexer,col_indexer] = value instead\n",
      "\n",
      "See the caveats in the documentation: https://pandas.pydata.org/pandas-docs/stable/user_guide/indexing.html#returning-a-view-versus-a-copy\n",
      "  match_df[col] = match_df[col].apply(rescale, args=(old_min, old_max, new_min, new_max))\n",
      "C:\\Users\\Francesco\\AppData\\Local\\Temp\\ipykernel_7560\\967623533.py:30: SettingWithCopyWarning: \n",
      "A value is trying to be set on a copy of a slice from a DataFrame.\n",
      "Try using .loc[row_indexer,col_indexer] = value instead\n",
      "\n",
      "See the caveats in the documentation: https://pandas.pydata.org/pandas-docs/stable/user_guide/indexing.html#returning-a-view-versus-a-copy\n",
      "  match_df[col] = match_df[col].apply(rescale, args=(old_min, old_max, new_min, new_max))\n",
      "C:\\Users\\Francesco\\AppData\\Local\\Temp\\ipykernel_7560\\967623533.py:30: SettingWithCopyWarning: \n",
      "A value is trying to be set on a copy of a slice from a DataFrame.\n",
      "Try using .loc[row_indexer,col_indexer] = value instead\n",
      "\n",
      "See the caveats in the documentation: https://pandas.pydata.org/pandas-docs/stable/user_guide/indexing.html#returning-a-view-versus-a-copy\n",
      "  match_df[col] = match_df[col].apply(rescale, args=(old_min, old_max, new_min, new_max))\n"
     ]
    },
    {
     "name": "stdout",
     "output_type": "stream",
     "text": [
      "        season  matchId  teamId  playerId             playerName   type  \\\n",
      "0    2024-2025  1834868      73  329854.0  Lucas Martínez Quarta  Carry   \n",
      "1    2024-2025  1834868      73  248144.0         Sofyan Amrabat  Carry   \n",
      "2    2024-2025  1834868      73  329854.0  Lucas Martínez Quarta  Carry   \n",
      "3    2024-2025  1834868      73  356733.0         Andrea Colpani  Carry   \n",
      "4    2024-2025  1834868   24341  363978.0         Adrián Bernabé  Carry   \n",
      "..         ...      ...     ...       ...                    ...    ...   \n",
      "150  2024-2025  1834868   24341  447486.0     Alessandro Circati  Carry   \n",
      "151  2024-2025  1834868      73  322094.0         Jonathan Ikoné  Carry   \n",
      "152  2024-2025  1834868   24341  123873.0          Wylan Cyprien  Carry   \n",
      "153  2024-2025  1834868   24341  343512.0        Emanuele Valeri  Carry   \n",
      "154  2024-2025  1834868   24341  404497.0     Matteo Cancellieri  Carry   \n",
      "\n",
      "          x       y    endX    endY  carryId  \n",
      "0    30.765  16.629  33.810  32.637        1  \n",
      "1    31.395  47.127  31.185  40.503        2  \n",
      "2    23.520  23.253  33.600  13.593        3  \n",
      "3    44.415   6.279  39.585  18.906        4  \n",
      "4    41.895  16.422  60.585  22.218        5  \n",
      "..      ...     ...     ...     ...      ...  \n",
      "150  28.560  47.955  57.540  50.025      151  \n",
      "151  59.640  20.562  69.720  22.701      152  \n",
      "152  33.495  55.683  40.425  55.062      153  \n",
      "153  70.665  62.859  94.395  56.442      154  \n",
      "154  84.840  58.512  91.770  67.620      155  \n",
      "\n",
      "[155 rows x 11 columns]\n"
     ]
    }
   ],
   "source": [
    "import pandas as pd\n",
    "import numpy as np\n",
    "from math import sqrt\n",
    "\n",
    "# Define the rescaling function\n",
    "def rescale(value, old_min, old_max, new_min, new_max):\n",
    "    if pd.notna(value):  # Only rescale if the value is not NaN\n",
    "        return (value - old_min) / (old_max - old_min) * (new_max - new_min) + new_min\n",
    "    return value  # Return NaN as-is\n",
    "\n",
    "# Load the dataset\n",
    "file_path = \"Italy-Serie-A/2024-2025.csv\"\n",
    "df = pd.read_csv(file_path)\n",
    "\n",
    "# Extract the season from the file name\n",
    "season = file_path.split(\"/\")[-1].replace(\".csv\", \"\")\n",
    "\n",
    "# Filter the dataset for the specified match\n",
    "match_id = 1834868\n",
    "match_df = df[df['matchId'] == match_id]\n",
    "\n",
    "# Rescale the coordinates\n",
    "scaling_map = {\n",
    "    'x': (0, 100, 0, 105),\n",
    "    'y': (0, 100, 0, 69),\n",
    "    'endX': (0, 100, 0, 105),\n",
    "    'endY': (0, 100, 0, 69)\n",
    "}\n",
    "for col, (old_min, old_max, new_min, new_max) in scaling_map.items():\n",
    "    match_df[col] = match_df[col].apply(rescale, args=(old_min, old_max, new_min, new_max))\n",
    "\n",
    "# Initialize the carry DataFrame\n",
    "carries = []\n",
    "carry_id = 1\n",
    "\n",
    "# Function to calculate Euclidean distance\n",
    "def calculate_distance(x1, y1, x2, y2):\n",
    "    return sqrt((x2 - x1) ** 2 + (y2 - y1) ** 2)\n",
    "\n",
    "# Identify carries based on conditions\n",
    "for i in range(len(match_df) - 1):\n",
    "    event1 = match_df.iloc[i]\n",
    "    event2 = match_df.iloc[i + 1]\n",
    "\n",
    "    # Condition 1: Consecutive events by the same team or player\n",
    "    if (\n",
    "        event1['teamId'] == event2['teamId'] and\n",
    "        event1['type'] in ['Pass', 'TakeOn', 'Tackle', 'BallRecovery'] and\n",
    "        event1['outcomeType'] == 'Successful' and\n",
    "        (\n",
    "            event2['type'] in ['Pass', 'TakeOn', 'Tackle', 'Dispossessed', 'Foul'] or \n",
    "            event2['isShot'] == True\n",
    "        )\n",
    "    ):\n",
    "        x, y = event1['endX'], event1['endY']\n",
    "        endX, endY = event2['x'], event2['y']\n",
    "        \n",
    "        if calculate_distance(x, y, endX, endY) >= 5:\n",
    "            carries.append({\n",
    "                'season': season,\n",
    "                'matchId': match_id,\n",
    "                'teamId': event2['teamId'],\n",
    "                'playerId': event2['playerId'],\n",
    "                'playerName': event2['playerName'],\n",
    "                'type': 'Carry',\n",
    "                'x': x,\n",
    "                'y': y,\n",
    "                'endX': endX,\n",
    "                'endY': endY,\n",
    "                'carryId': carry_id\n",
    "            })\n",
    "            carry_id += 1\n",
    "\n",
    "    # Condition 2: TakeOn in a sequence of three events\n",
    "    if i < len(match_df) - 2:\n",
    "        event3 = match_df.iloc[i + 2]\n",
    "        if (\n",
    "            event1['teamId'] != event2['teamId'] and\n",
    "            event2['teamId'] != event3['teamId'] and\n",
    "            event2['type'] == 'TakeOn' and\n",
    "            pd.notna(event1['endX']) and pd.notna(event1['endY'])\n",
    "        ):\n",
    "            x, y = 105 - event1['endX'], 69 - event1['endY']\n",
    "            endX, endY = 105 - event3['x'], 69 - event3['y']\n",
    "\n",
    "            if calculate_distance(x, y, endX, endY) >= 5:\n",
    "                carries.append({\n",
    "                    'season': season,\n",
    "                    'matchId': match_id,\n",
    "                    'teamId': event2['teamId'],\n",
    "                    'playerId': event2['playerId'],\n",
    "                    'playerName': event2['playerName'],\n",
    "                    'type': 'Carry',\n",
    "                    'x': x,\n",
    "                    'y': y,\n",
    "                    'endX': endX,\n",
    "                    'endY': endY,\n",
    "                    'carryId': carry_id\n",
    "                })\n",
    "                carry_id += 1\n",
    "\n",
    "    # Condition 3: Events between opposing teams\n",
    "    if (\n",
    "        event1['teamId'] != event2['teamId'] and\n",
    "        event1['type'] == 'BallRecovery' and\n",
    "        event2['type'] in ['BallRecovery', 'Tackle']\n",
    "    ):\n",
    "        x, y = event1['x'], event1['y']\n",
    "        endX, endY = 105 - event2['x'], 69 - event2['y']\n",
    "\n",
    "        if calculate_distance(x, y, endX, endY) >= 5:\n",
    "            carries.append({\n",
    "                'season': season,\n",
    "                'matchId': match_id,\n",
    "                'teamId': event1['teamId'],\n",
    "                'playerId': event1['playerId'],\n",
    "                'playerName': event1['playerName'],\n",
    "                'type': 'Carry',\n",
    "                'x': x,\n",
    "                'y': y,\n",
    "                'endX': endX,\n",
    "                'endY': endY,\n",
    "                'carryId': carry_id\n",
    "            })\n",
    "            carry_id += 1\n",
    "\n",
    "# Create the carries DataFrame\n",
    "carries_df = pd.DataFrame(carries)\n",
    "\n",
    "# Display the carries DataFrame\n",
    "print(carries_df)"
   ]
  },
  {
   "cell_type": "code",
   "execution_count": 1,
   "metadata": {},
   "outputs": [
    {
     "name": "stdout",
     "output_type": "stream",
     "text": [
      "Dataset loaded successfully.\n",
      "             id  eventId  minute  second  teamId h_a     x     y  \\\n",
      "0  2.709862e+09        2       0     0.0      73   a   0.0   0.0   \n",
      "1  2.709862e+09        2       0     0.0   24341   h   0.0   0.0   \n",
      "2  2.709862e+09        3       0     0.0      73   a  50.1  50.4   \n",
      "3  2.709862e+09        4       0     2.0      73   a  41.8  51.3   \n",
      "4  2.709862e+09        5       0     4.0      73   a  39.2  33.4   \n",
      "\n",
      "   expandedMinute     period  ... penaltyShootoutSavedGK  \\\n",
      "0               0  FirstHalf  ...                      0   \n",
      "1               0  FirstHalf  ...                      0   \n",
      "2               0  FirstHalf  ...                      0   \n",
      "3               0  FirstHalf  ...                      0   \n",
      "4               0  FirstHalf  ...                      0   \n",
      "\n",
      "  penaltyShootoutConcededGK throwIn subOn  subOff  defensiveThird midThird  \\\n",
      "0                         0       0     0       0               0        0   \n",
      "1                         0       0     0       0               0        0   \n",
      "2                         0       0     0       0               0        1   \n",
      "3                         0       0     0       0               0        1   \n",
      "4                         0       0     0       0               1        0   \n",
      "\n",
      "  finalThird pos isOwnGoal  \n",
      "0          0   0       NaN  \n",
      "1          0   0       NaN  \n",
      "2          0   1       NaN  \n",
      "3          0   1       NaN  \n",
      "4          0   1       NaN  \n",
      "\n",
      "[5 rows x 259 columns]\n",
      "        season  matchId  teamId  playerId             playerName   type     x  \\\n",
      "0    2024-2025  1834868      73  329854.0  Lucas Martínez Quarta  Carry  30.8   \n",
      "1    2024-2025  1834868      73  248144.0         Sofyan Amrabat  Carry  31.4   \n",
      "2    2024-2025  1834868      73  329854.0  Lucas Martínez Quarta  Carry  23.5   \n",
      "3    2024-2025  1834868      73  356733.0         Andrea Colpani  Carry  44.4   \n",
      "4    2024-2025  1834868   24341  363978.0         Adrián Bernabé  Carry  41.9   \n",
      "..         ...      ...     ...       ...                    ...    ...   ...   \n",
      "151  2024-2025  1834868   24341  447486.0     Alessandro Circati  Carry  28.6   \n",
      "152  2024-2025  1834868      73  322094.0         Jonathan Ikoné  Carry  59.6   \n",
      "153  2024-2025  1834868   24341  123873.0          Wylan Cyprien  Carry  33.5   \n",
      "154  2024-2025  1834868   24341  343512.0        Emanuele Valeri  Carry  70.7   \n",
      "155  2024-2025  1834868   24341  404497.0     Matteo Cancellieri  Carry  84.8   \n",
      "\n",
      "        y  endX  endY  carryId  carryLength  \n",
      "0    16.6  33.8  32.6        1         16.3  \n",
      "1    47.1  31.2  40.5        2          6.6  \n",
      "2    23.3  33.6  13.6        3         14.0  \n",
      "3     6.3  39.6  18.9        4         13.5  \n",
      "4    16.4  60.6  22.2        5         19.6  \n",
      "..    ...   ...   ...      ...          ...  \n",
      "151  48.0  57.5  50.0      152         29.0  \n",
      "152  20.6  69.7  22.7      153         10.3  \n",
      "153  55.7  40.4  55.1      154          6.9  \n",
      "154  62.9  94.4  56.4      155         24.6  \n",
      "155  58.5  91.8  67.6      156         11.5  \n",
      "\n",
      "[156 rows x 12 columns]\n"
     ]
    }
   ],
   "source": [
    "import pandas as pd\n",
    "import numpy as np\n",
    "from math import sqrt\n",
    "\n",
    "# Define the rescaling function\n",
    "def rescale(value, old_min, old_max, new_min, new_max):\n",
    "    if pd.notna(value):  # Only rescale if the value is not NaN\n",
    "        return round((value - old_min) / (old_max - old_min) * (new_max - new_min) + new_min, 1)\n",
    "    return value  # Return NaN as-is\n",
    "\n",
    "# Function to calculate Euclidean distance\n",
    "def calculate_distance(x1, y1, x2, y2):\n",
    "    if pd.notna(x1) and pd.notna(y1) and pd.notna(x2) and pd.notna(y2):\n",
    "        #return sqrt((x2 - x1) ** 2 + (y2 - y1) ** 2)\n",
    "        return round(sqrt((x2 - x1) ** 2 + (y2 - y1) ** 2), 1)\n",
    "    return 0\n",
    "\n",
    "# Load the dataset\n",
    "file_path = \"Italy-Serie-A/2024-2025.csv\"\n",
    "try:\n",
    "    df = pd.read_csv(file_path, low_memory=False)\n",
    "    print(\"Dataset loaded successfully.\")\n",
    "except Exception as e:\n",
    "    print(f\"Error loading dataset: {e}\")\n",
    "    df = pd.DataFrame()\n",
    "\n",
    "# Verify dataset\n",
    "if not df.empty:\n",
    "    print(df.head())\n",
    "\n",
    "# Extract the season from the file name\n",
    "season = file_path.split(\"/\")[-1].replace(\".csv\", \"\")\n",
    "\n",
    "# Filter the dataset for the specified match\n",
    "match_id = 1834868\n",
    "if 'matchId' in df.columns and match_id in df['matchId'].values:\n",
    "    match_df = df[df['matchId'] == match_id].copy()\n",
    "else:\n",
    "    print(f\"No records found for matchId {match_id}\")\n",
    "    match_df = pd.DataFrame()\n",
    "\n",
    "# If the match data is not empty, proceed\n",
    "if not match_df.empty:\n",
    "    carries = []\n",
    "    carry_id = 1\n",
    "\n",
    "    # Identify carries based on conditions\n",
    "    for i in range(len(match_df) - 1):\n",
    "        event1 = match_df.iloc[i]\n",
    "        event2 = match_df.iloc[i + 1]\n",
    "\n",
    "        # Condition 1: Consecutive events by the same team or player\n",
    "        if (\n",
    "            event1['teamId'] == event2['teamId'] and\n",
    "            event1['type'] in ['Pass', 'TakeOn', 'Tackle', 'BallRecovery'] and\n",
    "            event1['outcomeType'] == 'Successful' and\n",
    "            (\n",
    "                event2['type'] in ['Pass', 'TakeOn', 'Tackle', 'Dispossessed', 'Foul'] or \n",
    "                event2['isShot'] == True\n",
    "            )\n",
    "        ):\n",
    "            x, y = rescale(event1['endX'], 0, 100, 0, 105), rescale(event1['endY'], 0, 100, 0, 69)\n",
    "            endX, endY = rescale(event2['x'], 0, 100, 0, 105), rescale(event2['y'], 0, 100, 0, 69)\n",
    "            length = calculate_distance(x, y, endX, endY)\n",
    "\n",
    "            if length >= 5:\n",
    "                carries.append({\n",
    "                    'season': season,\n",
    "                    'matchId': match_id,\n",
    "                    'teamId': event2['teamId'],\n",
    "                    'playerId': event2['playerId'],\n",
    "                    'playerName': event2['playerName'],\n",
    "                    'type': 'Carry',\n",
    "                    'x': x,\n",
    "                    'y': y,\n",
    "                    'endX': endX,\n",
    "                    'endY': endY,\n",
    "                    'carryId': carry_id,\n",
    "                    'carryLength': length\n",
    "                })\n",
    "                carry_id += 1\n",
    "\n",
    "        # Condition 2: TakeOn in a sequence of three events\n",
    "        if i < len(match_df) - 2:\n",
    "            event3 = match_df.iloc[i + 2]\n",
    "            if (\n",
    "                event1['teamId'] != event2['teamId'] and\n",
    "                event2['teamId'] != event3['teamId'] and\n",
    "                event2['type'] == 'TakeOn' and\n",
    "                pd.notna(event1['endX']) and pd.notna(event1['endY'])\n",
    "            ):\n",
    "                x, y = rescale(105 - event1['endX'], 0, 100, 0, 105), rescale(69 - event1['endY'], 0, 100, 0, 69)\n",
    "                endX, endY = rescale(105 - event3['x'], 0, 100, 0, 105), rescale(69 - event3['y'], 0, 100, 0, 69)\n",
    "                length = calculate_distance(x, y, endX, endY)\n",
    "\n",
    "                if length >= 5:\n",
    "                    carries.append({\n",
    "                        'season': season,\n",
    "                        'matchId': match_id,\n",
    "                        'teamId': event2['teamId'],\n",
    "                        'playerId': event2['playerId'],\n",
    "                        'playerName': event2['playerName'],\n",
    "                        'type': 'Carry',\n",
    "                        'x': x,\n",
    "                        'y': y,\n",
    "                        'endX': endX,\n",
    "                        'endY': endY,\n",
    "                        'carryId': carry_id,\n",
    "                        'carryLength': length\n",
    "                    })\n",
    "                    carry_id += 1\n",
    "\n",
    "        # Condition 3: Events between opposing teams\n",
    "        if (\n",
    "            event1['teamId'] != event2['teamId'] and\n",
    "            event1['type'] == 'BallRecovery' and\n",
    "            event2['type'] in ['BallRecovery', 'Tackle']\n",
    "        ):\n",
    "            x, y = rescale(event1['x'], 0, 100, 0, 105), rescale(event1['y'], 0, 100, 0, 69)\n",
    "            endX, endY = rescale(105 - event2['x'], 0, 100, 0, 105), rescale(69 - event2['y'], 0, 100, 0, 69)\n",
    "            length = calculate_distance(x, y, endX, endY)\n",
    "\n",
    "            if length >= 5:\n",
    "                carries.append({\n",
    "                    'season': season,\n",
    "                    'matchId': match_id,\n",
    "                    'teamId': event1['teamId'],\n",
    "                    'playerId': event1['playerId'],\n",
    "                    'playerName': event1['playerName'],\n",
    "                    'type': 'Carry',\n",
    "                    'x': x,\n",
    "                    'y': y,\n",
    "                    'endX': endX,\n",
    "                    'endY': endY,\n",
    "                    'carryId': carry_id,\n",
    "                    'carryLength': length\n",
    "                })\n",
    "                carry_id += 1\n",
    "\n",
    "    # Convert carry data to DataFrame\n",
    "    carries_df = pd.DataFrame(carries)\n",
    "\n",
    "    # Display the carries DataFrame\n",
    "    print(carries_df)\n",
    "else:\n",
    "    print(\"No carry-related data found.\")"
   ]
  },
  {
   "cell_type": "code",
   "execution_count": 2,
   "metadata": {},
   "outputs": [],
   "source": [
    "output_file = 'carries.csv'\n",
    "carries_df.to_csv(output_file, index=False, mode='w')"
   ]
  },
  {
   "cell_type": "code",
   "execution_count": 1,
   "metadata": {},
   "outputs": [
    {
     "name": "stdout",
     "output_type": "stream",
     "text": [
      "Processing folder: .git\n",
      "Processing folder: Belgium-Jupiler-Pro-League\n",
      "Processing file: 2020-2021.csv\n"
     ]
    },
    {
     "name": "stderr",
     "output_type": "stream",
     "text": [
      "C:\\Users\\Francesco\\AppData\\Local\\Temp\\ipykernel_14104\\179009458.py:49: DtypeWarning: Columns (35,258) have mixed types. Specify dtype option on import or set low_memory=False.\n",
      "  df = pd.read_csv(file_path)\n"
     ]
    },
    {
     "name": "stdout",
     "output_type": "stream",
     "text": [
      "Finished processing file: 2020-2021.csv\n",
      "Processing file: 2021-2022.csv\n"
     ]
    },
    {
     "name": "stderr",
     "output_type": "stream",
     "text": [
      "C:\\Users\\Francesco\\AppData\\Local\\Temp\\ipykernel_14104\\179009458.py:49: DtypeWarning: Columns (258) have mixed types. Specify dtype option on import or set low_memory=False.\n",
      "  df = pd.read_csv(file_path)\n"
     ]
    },
    {
     "name": "stdout",
     "output_type": "stream",
     "text": [
      "Finished processing file: 2021-2022.csv\n",
      "Processing file: 2022-2023.csv\n"
     ]
    },
    {
     "name": "stderr",
     "output_type": "stream",
     "text": [
      "C:\\Users\\Francesco\\AppData\\Local\\Temp\\ipykernel_14104\\179009458.py:49: DtypeWarning: Columns (258) have mixed types. Specify dtype option on import or set low_memory=False.\n",
      "  df = pd.read_csv(file_path)\n"
     ]
    },
    {
     "name": "stdout",
     "output_type": "stream",
     "text": [
      "Finished processing file: 2022-2023.csv\n",
      "Processing file: 2023-2024.csv\n"
     ]
    },
    {
     "name": "stderr",
     "output_type": "stream",
     "text": [
      "C:\\Users\\Francesco\\AppData\\Local\\Temp\\ipykernel_14104\\179009458.py:49: DtypeWarning: Columns (35,258) have mixed types. Specify dtype option on import or set low_memory=False.\n",
      "  df = pd.read_csv(file_path)\n"
     ]
    },
    {
     "name": "stdout",
     "output_type": "stream",
     "text": [
      "Finished processing file: 2023-2024.csv\n",
      "Processing file: 2024-2025.csv\n"
     ]
    },
    {
     "name": "stderr",
     "output_type": "stream",
     "text": [
      "C:\\Users\\Francesco\\AppData\\Local\\Temp\\ipykernel_14104\\179009458.py:49: DtypeWarning: Columns (258) have mixed types. Specify dtype option on import or set low_memory=False.\n",
      "  df = pd.read_csv(file_path)\n"
     ]
    },
    {
     "name": "stdout",
     "output_type": "stream",
     "text": [
      "Finished processing file: 2024-2025.csv\n",
      "Processing folder: Brazil-Brasileirão\n",
      "Processing file: 2020.csv\n"
     ]
    },
    {
     "name": "stderr",
     "output_type": "stream",
     "text": [
      "C:\\Users\\Francesco\\AppData\\Local\\Temp\\ipykernel_14104\\179009458.py:49: DtypeWarning: Columns (258) have mixed types. Specify dtype option on import or set low_memory=False.\n",
      "  df = pd.read_csv(file_path)\n"
     ]
    },
    {
     "name": "stdout",
     "output_type": "stream",
     "text": [
      "Finished processing file: 2020.csv\n",
      "Processing file: 2021.csv\n"
     ]
    },
    {
     "name": "stderr",
     "output_type": "stream",
     "text": [
      "C:\\Users\\Francesco\\AppData\\Local\\Temp\\ipykernel_14104\\179009458.py:49: DtypeWarning: Columns (258) have mixed types. Specify dtype option on import or set low_memory=False.\n",
      "  df = pd.read_csv(file_path)\n"
     ]
    },
    {
     "name": "stdout",
     "output_type": "stream",
     "text": [
      "Finished processing file: 2021.csv\n",
      "Processing file: 2022.csv\n"
     ]
    },
    {
     "name": "stderr",
     "output_type": "stream",
     "text": [
      "C:\\Users\\Francesco\\AppData\\Local\\Temp\\ipykernel_14104\\179009458.py:49: DtypeWarning: Columns (258) have mixed types. Specify dtype option on import or set low_memory=False.\n",
      "  df = pd.read_csv(file_path)\n"
     ]
    },
    {
     "name": "stdout",
     "output_type": "stream",
     "text": [
      "Finished processing file: 2022.csv\n",
      "Processing file: 2023.csv\n"
     ]
    },
    {
     "name": "stderr",
     "output_type": "stream",
     "text": [
      "C:\\Users\\Francesco\\AppData\\Local\\Temp\\ipykernel_14104\\179009458.py:49: DtypeWarning: Columns (258) have mixed types. Specify dtype option on import or set low_memory=False.\n",
      "  df = pd.read_csv(file_path)\n"
     ]
    },
    {
     "name": "stdout",
     "output_type": "stream",
     "text": [
      "Finished processing file: 2023.csv\n",
      "Processing file: 2024.csv\n"
     ]
    },
    {
     "name": "stderr",
     "output_type": "stream",
     "text": [
      "C:\\Users\\Francesco\\AppData\\Local\\Temp\\ipykernel_14104\\179009458.py:49: DtypeWarning: Columns (258) have mixed types. Specify dtype option on import or set low_memory=False.\n",
      "  df = pd.read_csv(file_path)\n"
     ]
    },
    {
     "name": "stdout",
     "output_type": "stream",
     "text": [
      "Finished processing file: 2024.csv\n",
      "Processing folder: England-Championship\n",
      "Processing file: 2020-2021.csv\n"
     ]
    },
    {
     "name": "stderr",
     "output_type": "stream",
     "text": [
      "C:\\Users\\Francesco\\AppData\\Local\\Temp\\ipykernel_14104\\179009458.py:49: DtypeWarning: Columns (36,258) have mixed types. Specify dtype option on import or set low_memory=False.\n",
      "  df = pd.read_csv(file_path)\n"
     ]
    },
    {
     "name": "stdout",
     "output_type": "stream",
     "text": [
      "Finished processing file: 2020-2021.csv\n",
      "Processing file: 2021-2022.csv\n"
     ]
    },
    {
     "name": "stderr",
     "output_type": "stream",
     "text": [
      "C:\\Users\\Francesco\\AppData\\Local\\Temp\\ipykernel_14104\\179009458.py:49: DtypeWarning: Columns (21,36,258) have mixed types. Specify dtype option on import or set low_memory=False.\n",
      "  df = pd.read_csv(file_path)\n"
     ]
    },
    {
     "name": "stdout",
     "output_type": "stream",
     "text": [
      "Finished processing file: 2021-2022.csv\n",
      "Processing file: 2022-2023.csv\n"
     ]
    },
    {
     "name": "stderr",
     "output_type": "stream",
     "text": [
      "C:\\Users\\Francesco\\AppData\\Local\\Temp\\ipykernel_14104\\179009458.py:49: DtypeWarning: Columns (21,36,258) have mixed types. Specify dtype option on import or set low_memory=False.\n",
      "  df = pd.read_csv(file_path)\n"
     ]
    },
    {
     "name": "stdout",
     "output_type": "stream",
     "text": [
      "Finished processing file: 2022-2023.csv\n",
      "Processing file: 2023-2024.csv\n"
     ]
    },
    {
     "name": "stderr",
     "output_type": "stream",
     "text": [
      "C:\\Users\\Francesco\\AppData\\Local\\Temp\\ipykernel_14104\\179009458.py:49: DtypeWarning: Columns (258) have mixed types. Specify dtype option on import or set low_memory=False.\n",
      "  df = pd.read_csv(file_path)\n"
     ]
    },
    {
     "name": "stdout",
     "output_type": "stream",
     "text": [
      "Finished processing file: 2023-2024.csv\n",
      "Processing file: 2024-2025.csv\n"
     ]
    },
    {
     "name": "stderr",
     "output_type": "stream",
     "text": [
      "C:\\Users\\Francesco\\AppData\\Local\\Temp\\ipykernel_14104\\179009458.py:49: DtypeWarning: Columns (258) have mixed types. Specify dtype option on import or set low_memory=False.\n",
      "  df = pd.read_csv(file_path)\n"
     ]
    },
    {
     "name": "stdout",
     "output_type": "stream",
     "text": [
      "Finished processing file: 2024-2025.csv\n",
      "Processing folder: England-League-One\n",
      "Processing file: 2020-2021.csv\n"
     ]
    },
    {
     "name": "stderr",
     "output_type": "stream",
     "text": [
      "C:\\Users\\Francesco\\AppData\\Local\\Temp\\ipykernel_14104\\179009458.py:49: DtypeWarning: Columns (36,258) have mixed types. Specify dtype option on import or set low_memory=False.\n",
      "  df = pd.read_csv(file_path)\n"
     ]
    },
    {
     "name": "stdout",
     "output_type": "stream",
     "text": [
      "Finished processing file: 2020-2021.csv\n",
      "Processing file: 2021-2022.csv\n"
     ]
    },
    {
     "name": "stderr",
     "output_type": "stream",
     "text": [
      "C:\\Users\\Francesco\\AppData\\Local\\Temp\\ipykernel_14104\\179009458.py:49: DtypeWarning: Columns (258) have mixed types. Specify dtype option on import or set low_memory=False.\n",
      "  df = pd.read_csv(file_path)\n"
     ]
    },
    {
     "name": "stdout",
     "output_type": "stream",
     "text": [
      "Finished processing file: 2021-2022.csv\n",
      "Processing file: 2022-2023.csv\n"
     ]
    },
    {
     "name": "stderr",
     "output_type": "stream",
     "text": [
      "C:\\Users\\Francesco\\AppData\\Local\\Temp\\ipykernel_14104\\179009458.py:49: DtypeWarning: Columns (21,36,258) have mixed types. Specify dtype option on import or set low_memory=False.\n",
      "  df = pd.read_csv(file_path)\n"
     ]
    },
    {
     "name": "stdout",
     "output_type": "stream",
     "text": [
      "Finished processing file: 2022-2023.csv\n",
      "Processing file: 2023-2024.csv\n"
     ]
    },
    {
     "name": "stderr",
     "output_type": "stream",
     "text": [
      "C:\\Users\\Francesco\\AppData\\Local\\Temp\\ipykernel_14104\\179009458.py:49: DtypeWarning: Columns (258) have mixed types. Specify dtype option on import or set low_memory=False.\n",
      "  df = pd.read_csv(file_path)\n"
     ]
    },
    {
     "name": "stdout",
     "output_type": "stream",
     "text": [
      "Finished processing file: 2023-2024.csv\n",
      "Processing file: 2024-2025.csv\n"
     ]
    },
    {
     "name": "stderr",
     "output_type": "stream",
     "text": [
      "C:\\Users\\Francesco\\AppData\\Local\\Temp\\ipykernel_14104\\179009458.py:49: DtypeWarning: Columns (258) have mixed types. Specify dtype option on import or set low_memory=False.\n",
      "  df = pd.read_csv(file_path)\n"
     ]
    },
    {
     "name": "stdout",
     "output_type": "stream",
     "text": [
      "Finished processing file: 2024-2025.csv\n",
      "Processing folder: England-League-Two\n",
      "Processing file: 2020-2021.csv\n"
     ]
    },
    {
     "name": "stderr",
     "output_type": "stream",
     "text": [
      "C:\\Users\\Francesco\\AppData\\Local\\Temp\\ipykernel_14104\\179009458.py:49: DtypeWarning: Columns (21,35,258) have mixed types. Specify dtype option on import or set low_memory=False.\n",
      "  df = pd.read_csv(file_path)\n"
     ]
    },
    {
     "name": "stdout",
     "output_type": "stream",
     "text": [
      "Finished processing file: 2020-2021.csv\n",
      "Processing file: 2021-2022.csv\n"
     ]
    },
    {
     "name": "stderr",
     "output_type": "stream",
     "text": [
      "C:\\Users\\Francesco\\AppData\\Local\\Temp\\ipykernel_14104\\179009458.py:49: DtypeWarning: Columns (21,33,258) have mixed types. Specify dtype option on import or set low_memory=False.\n",
      "  df = pd.read_csv(file_path)\n"
     ]
    },
    {
     "name": "stdout",
     "output_type": "stream",
     "text": [
      "Finished processing file: 2021-2022.csv\n",
      "Processing file: 2022-2023.csv\n"
     ]
    },
    {
     "name": "stderr",
     "output_type": "stream",
     "text": [
      "C:\\Users\\Francesco\\AppData\\Local\\Temp\\ipykernel_14104\\179009458.py:49: DtypeWarning: Columns (22,258) have mixed types. Specify dtype option on import or set low_memory=False.\n",
      "  df = pd.read_csv(file_path)\n"
     ]
    },
    {
     "name": "stdout",
     "output_type": "stream",
     "text": [
      "Finished processing file: 2022-2023.csv\n",
      "Processing file: 2023-2024.csv\n"
     ]
    },
    {
     "name": "stderr",
     "output_type": "stream",
     "text": [
      "C:\\Users\\Francesco\\AppData\\Local\\Temp\\ipykernel_14104\\179009458.py:49: DtypeWarning: Columns (21,36,258) have mixed types. Specify dtype option on import or set low_memory=False.\n",
      "  df = pd.read_csv(file_path)\n"
     ]
    },
    {
     "name": "stdout",
     "output_type": "stream",
     "text": [
      "Finished processing file: 2023-2024.csv\n",
      "Processing file: 2024-2025.csv\n"
     ]
    },
    {
     "name": "stderr",
     "output_type": "stream",
     "text": [
      "C:\\Users\\Francesco\\AppData\\Local\\Temp\\ipykernel_14104\\179009458.py:49: DtypeWarning: Columns (258) have mixed types. Specify dtype option on import or set low_memory=False.\n",
      "  df = pd.read_csv(file_path)\n"
     ]
    },
    {
     "name": "stdout",
     "output_type": "stream",
     "text": [
      "Finished processing file: 2024-2025.csv\n",
      "Processing folder: England-Premier-League\n",
      "Processing file: 2020-2021.csv\n"
     ]
    },
    {
     "name": "stderr",
     "output_type": "stream",
     "text": [
      "C:\\Users\\Francesco\\AppData\\Local\\Temp\\ipykernel_14104\\179009458.py:49: DtypeWarning: Columns (33,258) have mixed types. Specify dtype option on import or set low_memory=False.\n",
      "  df = pd.read_csv(file_path)\n"
     ]
    },
    {
     "name": "stdout",
     "output_type": "stream",
     "text": [
      "Finished processing file: 2020-2021.csv\n",
      "Processing file: 2021-2022.csv\n"
     ]
    },
    {
     "name": "stderr",
     "output_type": "stream",
     "text": [
      "C:\\Users\\Francesco\\AppData\\Local\\Temp\\ipykernel_14104\\179009458.py:49: DtypeWarning: Columns (258) have mixed types. Specify dtype option on import or set low_memory=False.\n",
      "  df = pd.read_csv(file_path)\n"
     ]
    },
    {
     "name": "stdout",
     "output_type": "stream",
     "text": [
      "Finished processing file: 2021-2022.csv\n",
      "Processing file: 2022-2023.csv\n"
     ]
    },
    {
     "name": "stderr",
     "output_type": "stream",
     "text": [
      "C:\\Users\\Francesco\\AppData\\Local\\Temp\\ipykernel_14104\\179009458.py:49: DtypeWarning: Columns (37) have mixed types. Specify dtype option on import or set low_memory=False.\n",
      "  df = pd.read_csv(file_path)\n"
     ]
    },
    {
     "name": "stdout",
     "output_type": "stream",
     "text": [
      "Finished processing file: 2022-2023.csv\n",
      "Processing file: 2023-2024.csv\n"
     ]
    },
    {
     "name": "stderr",
     "output_type": "stream",
     "text": [
      "C:\\Users\\Francesco\\AppData\\Local\\Temp\\ipykernel_14104\\179009458.py:49: DtypeWarning: Columns (258) have mixed types. Specify dtype option on import or set low_memory=False.\n",
      "  df = pd.read_csv(file_path)\n"
     ]
    },
    {
     "name": "stdout",
     "output_type": "stream",
     "text": [
      "Finished processing file: 2023-2024.csv\n",
      "Processing file: 2024-2025.csv\n"
     ]
    },
    {
     "name": "stderr",
     "output_type": "stream",
     "text": [
      "C:\\Users\\Francesco\\AppData\\Local\\Temp\\ipykernel_14104\\179009458.py:49: DtypeWarning: Columns (258) have mixed types. Specify dtype option on import or set low_memory=False.\n",
      "  df = pd.read_csv(file_path)\n"
     ]
    },
    {
     "name": "stdout",
     "output_type": "stream",
     "text": [
      "Finished processing file: 2024-2025.csv\n",
      "Processing folder: France-Ligue-1\n",
      "Processing file: 2020-2021.csv\n"
     ]
    },
    {
     "name": "stderr",
     "output_type": "stream",
     "text": [
      "C:\\Users\\Francesco\\AppData\\Local\\Temp\\ipykernel_14104\\179009458.py:49: DtypeWarning: Columns (28,258) have mixed types. Specify dtype option on import or set low_memory=False.\n",
      "  df = pd.read_csv(file_path)\n"
     ]
    },
    {
     "name": "stdout",
     "output_type": "stream",
     "text": [
      "Finished processing file: 2020-2021.csv\n",
      "Processing file: 2021-2022.csv\n"
     ]
    },
    {
     "name": "stderr",
     "output_type": "stream",
     "text": [
      "C:\\Users\\Francesco\\AppData\\Local\\Temp\\ipykernel_14104\\179009458.py:49: DtypeWarning: Columns (258) have mixed types. Specify dtype option on import or set low_memory=False.\n",
      "  df = pd.read_csv(file_path)\n"
     ]
    },
    {
     "name": "stdout",
     "output_type": "stream",
     "text": [
      "Finished processing file: 2021-2022.csv\n",
      "Processing file: 2022-2023.csv\n"
     ]
    },
    {
     "name": "stderr",
     "output_type": "stream",
     "text": [
      "C:\\Users\\Francesco\\AppData\\Local\\Temp\\ipykernel_14104\\179009458.py:49: DtypeWarning: Columns (36,258) have mixed types. Specify dtype option on import or set low_memory=False.\n",
      "  df = pd.read_csv(file_path)\n"
     ]
    },
    {
     "name": "stdout",
     "output_type": "stream",
     "text": [
      "Finished processing file: 2022-2023.csv\n",
      "Processing file: 2023-2024.csv\n"
     ]
    },
    {
     "name": "stderr",
     "output_type": "stream",
     "text": [
      "C:\\Users\\Francesco\\AppData\\Local\\Temp\\ipykernel_14104\\179009458.py:49: DtypeWarning: Columns (36,37,38,258) have mixed types. Specify dtype option on import or set low_memory=False.\n",
      "  df = pd.read_csv(file_path)\n"
     ]
    },
    {
     "name": "stdout",
     "output_type": "stream",
     "text": [
      "Finished processing file: 2023-2024.csv\n",
      "Processing file: 2024-2025.csv\n"
     ]
    },
    {
     "name": "stderr",
     "output_type": "stream",
     "text": [
      "C:\\Users\\Francesco\\AppData\\Local\\Temp\\ipykernel_14104\\179009458.py:49: DtypeWarning: Columns (258) have mixed types. Specify dtype option on import or set low_memory=False.\n",
      "  df = pd.read_csv(file_path)\n"
     ]
    },
    {
     "name": "stdout",
     "output_type": "stream",
     "text": [
      "Finished processing file: 2024-2025.csv\n",
      "Processing folder: Germany-2-Bundesliga\n",
      "Processing file: 2020-2021.csv\n"
     ]
    },
    {
     "name": "stderr",
     "output_type": "stream",
     "text": [
      "C:\\Users\\Francesco\\AppData\\Local\\Temp\\ipykernel_14104\\179009458.py:49: DtypeWarning: Columns (258) have mixed types. Specify dtype option on import or set low_memory=False.\n",
      "  df = pd.read_csv(file_path)\n"
     ]
    },
    {
     "name": "stdout",
     "output_type": "stream",
     "text": [
      "Finished processing file: 2020-2021.csv\n",
      "Processing file: 2021-2022.csv\n"
     ]
    },
    {
     "name": "stderr",
     "output_type": "stream",
     "text": [
      "C:\\Users\\Francesco\\AppData\\Local\\Temp\\ipykernel_14104\\179009458.py:49: DtypeWarning: Columns (36,258) have mixed types. Specify dtype option on import or set low_memory=False.\n",
      "  df = pd.read_csv(file_path)\n"
     ]
    },
    {
     "name": "stdout",
     "output_type": "stream",
     "text": [
      "Finished processing file: 2021-2022.csv\n",
      "Processing file: 2022-2023.csv\n"
     ]
    },
    {
     "name": "stderr",
     "output_type": "stream",
     "text": [
      "C:\\Users\\Francesco\\AppData\\Local\\Temp\\ipykernel_14104\\179009458.py:49: DtypeWarning: Columns (258) have mixed types. Specify dtype option on import or set low_memory=False.\n",
      "  df = pd.read_csv(file_path)\n"
     ]
    },
    {
     "name": "stdout",
     "output_type": "stream",
     "text": [
      "Finished processing file: 2022-2023.csv\n",
      "Processing file: 2023-2024.csv\n"
     ]
    },
    {
     "name": "stderr",
     "output_type": "stream",
     "text": [
      "C:\\Users\\Francesco\\AppData\\Local\\Temp\\ipykernel_14104\\179009458.py:49: DtypeWarning: Columns (258) have mixed types. Specify dtype option on import or set low_memory=False.\n",
      "  df = pd.read_csv(file_path)\n"
     ]
    },
    {
     "name": "stdout",
     "output_type": "stream",
     "text": [
      "Finished processing file: 2023-2024.csv\n",
      "Processing file: 2024-2025.csv\n"
     ]
    },
    {
     "name": "stderr",
     "output_type": "stream",
     "text": [
      "C:\\Users\\Francesco\\AppData\\Local\\Temp\\ipykernel_14104\\179009458.py:49: DtypeWarning: Columns (258) have mixed types. Specify dtype option on import or set low_memory=False.\n",
      "  df = pd.read_csv(file_path)\n"
     ]
    },
    {
     "name": "stdout",
     "output_type": "stream",
     "text": [
      "Finished processing file: 2024-2025.csv\n",
      "Processing folder: Germany-Bundesliga\n",
      "Processing file: 2020-2021.csv\n"
     ]
    },
    {
     "name": "stderr",
     "output_type": "stream",
     "text": [
      "C:\\Users\\Francesco\\AppData\\Local\\Temp\\ipykernel_14104\\179009458.py:49: DtypeWarning: Columns (36,258) have mixed types. Specify dtype option on import or set low_memory=False.\n",
      "  df = pd.read_csv(file_path)\n"
     ]
    },
    {
     "name": "stdout",
     "output_type": "stream",
     "text": [
      "Finished processing file: 2020-2021.csv\n",
      "Processing file: 2021-2022.csv\n"
     ]
    },
    {
     "name": "stderr",
     "output_type": "stream",
     "text": [
      "C:\\Users\\Francesco\\AppData\\Local\\Temp\\ipykernel_14104\\179009458.py:49: DtypeWarning: Columns (258) have mixed types. Specify dtype option on import or set low_memory=False.\n",
      "  df = pd.read_csv(file_path)\n"
     ]
    },
    {
     "name": "stdout",
     "output_type": "stream",
     "text": [
      "Finished processing file: 2021-2022.csv\n",
      "Processing file: 2022-2023.csv\n"
     ]
    },
    {
     "name": "stderr",
     "output_type": "stream",
     "text": [
      "C:\\Users\\Francesco\\AppData\\Local\\Temp\\ipykernel_14104\\179009458.py:49: DtypeWarning: Columns (36,258) have mixed types. Specify dtype option on import or set low_memory=False.\n",
      "  df = pd.read_csv(file_path)\n"
     ]
    },
    {
     "name": "stdout",
     "output_type": "stream",
     "text": [
      "Finished processing file: 2022-2023.csv\n",
      "Processing file: 2023-2024.csv\n"
     ]
    },
    {
     "name": "stderr",
     "output_type": "stream",
     "text": [
      "C:\\Users\\Francesco\\AppData\\Local\\Temp\\ipykernel_14104\\179009458.py:49: DtypeWarning: Columns (258) have mixed types. Specify dtype option on import or set low_memory=False.\n",
      "  df = pd.read_csv(file_path)\n"
     ]
    },
    {
     "name": "stdout",
     "output_type": "stream",
     "text": [
      "Finished processing file: 2023-2024.csv\n",
      "Processing file: 2024-2025.csv\n"
     ]
    },
    {
     "name": "stderr",
     "output_type": "stream",
     "text": [
      "C:\\Users\\Francesco\\AppData\\Local\\Temp\\ipykernel_14104\\179009458.py:49: DtypeWarning: Columns (258) have mixed types. Specify dtype option on import or set low_memory=False.\n",
      "  df = pd.read_csv(file_path)\n"
     ]
    },
    {
     "name": "stdout",
     "output_type": "stream",
     "text": [
      "Finished processing file: 2024-2025.csv\n",
      "Processing folder: Italy-Serie-A\n",
      "Processing file: 2020-2021.csv\n"
     ]
    },
    {
     "name": "stderr",
     "output_type": "stream",
     "text": [
      "C:\\Users\\Francesco\\AppData\\Local\\Temp\\ipykernel_14104\\179009458.py:49: DtypeWarning: Columns (258) have mixed types. Specify dtype option on import or set low_memory=False.\n",
      "  df = pd.read_csv(file_path)\n"
     ]
    },
    {
     "name": "stdout",
     "output_type": "stream",
     "text": [
      "Finished processing file: 2020-2021.csv\n",
      "Processing file: 2021-2022.csv\n"
     ]
    },
    {
     "name": "stderr",
     "output_type": "stream",
     "text": [
      "C:\\Users\\Francesco\\AppData\\Local\\Temp\\ipykernel_14104\\179009458.py:49: DtypeWarning: Columns (258) have mixed types. Specify dtype option on import or set low_memory=False.\n",
      "  df = pd.read_csv(file_path)\n"
     ]
    },
    {
     "name": "stdout",
     "output_type": "stream",
     "text": [
      "Finished processing file: 2021-2022.csv\n",
      "Processing file: 2022-2023.csv\n"
     ]
    },
    {
     "name": "stderr",
     "output_type": "stream",
     "text": [
      "C:\\Users\\Francesco\\AppData\\Local\\Temp\\ipykernel_14104\\179009458.py:49: DtypeWarning: Columns (258) have mixed types. Specify dtype option on import or set low_memory=False.\n",
      "  df = pd.read_csv(file_path)\n"
     ]
    },
    {
     "name": "stdout",
     "output_type": "stream",
     "text": [
      "Finished processing file: 2022-2023.csv\n",
      "Processing file: 2023-2024.csv\n"
     ]
    },
    {
     "name": "stderr",
     "output_type": "stream",
     "text": [
      "C:\\Users\\Francesco\\AppData\\Local\\Temp\\ipykernel_14104\\179009458.py:49: DtypeWarning: Columns (36,258) have mixed types. Specify dtype option on import or set low_memory=False.\n",
      "  df = pd.read_csv(file_path)\n"
     ]
    },
    {
     "name": "stdout",
     "output_type": "stream",
     "text": [
      "Finished processing file: 2023-2024.csv\n",
      "Processing file: 2024-2025.csv\n"
     ]
    },
    {
     "name": "stderr",
     "output_type": "stream",
     "text": [
      "C:\\Users\\Francesco\\AppData\\Local\\Temp\\ipykernel_14104\\179009458.py:49: DtypeWarning: Columns (258) have mixed types. Specify dtype option on import or set low_memory=False.\n",
      "  df = pd.read_csv(file_path)\n"
     ]
    },
    {
     "name": "stdout",
     "output_type": "stream",
     "text": [
      "Finished processing file: 2024-2025.csv\n",
      "Processing folder: Netherlands-Eredivisie\n",
      "Processing file: 2020-2021.csv\n"
     ]
    },
    {
     "name": "stderr",
     "output_type": "stream",
     "text": [
      "C:\\Users\\Francesco\\AppData\\Local\\Temp\\ipykernel_14104\\179009458.py:49: DtypeWarning: Columns (35,258) have mixed types. Specify dtype option on import or set low_memory=False.\n",
      "  df = pd.read_csv(file_path)\n"
     ]
    },
    {
     "name": "stdout",
     "output_type": "stream",
     "text": [
      "Finished processing file: 2020-2021.csv\n",
      "Processing file: 2021-2022.csv\n"
     ]
    },
    {
     "name": "stderr",
     "output_type": "stream",
     "text": [
      "C:\\Users\\Francesco\\AppData\\Local\\Temp\\ipykernel_14104\\179009458.py:49: DtypeWarning: Columns (21,36,258) have mixed types. Specify dtype option on import or set low_memory=False.\n",
      "  df = pd.read_csv(file_path)\n"
     ]
    },
    {
     "name": "stdout",
     "output_type": "stream",
     "text": [
      "Finished processing file: 2021-2022.csv\n",
      "Processing file: 2022-2023.csv\n"
     ]
    },
    {
     "name": "stderr",
     "output_type": "stream",
     "text": [
      "C:\\Users\\Francesco\\AppData\\Local\\Temp\\ipykernel_14104\\179009458.py:49: DtypeWarning: Columns (35,258) have mixed types. Specify dtype option on import or set low_memory=False.\n",
      "  df = pd.read_csv(file_path)\n"
     ]
    },
    {
     "name": "stdout",
     "output_type": "stream",
     "text": [
      "Finished processing file: 2022-2023.csv\n",
      "Processing file: 2023-2024.csv\n"
     ]
    },
    {
     "name": "stderr",
     "output_type": "stream",
     "text": [
      "C:\\Users\\Francesco\\AppData\\Local\\Temp\\ipykernel_14104\\179009458.py:49: DtypeWarning: Columns (258) have mixed types. Specify dtype option on import or set low_memory=False.\n",
      "  df = pd.read_csv(file_path)\n"
     ]
    },
    {
     "name": "stdout",
     "output_type": "stream",
     "text": [
      "Finished processing file: 2023-2024.csv\n",
      "Processing file: 2024-2025.csv\n"
     ]
    },
    {
     "name": "stderr",
     "output_type": "stream",
     "text": [
      "C:\\Users\\Francesco\\AppData\\Local\\Temp\\ipykernel_14104\\179009458.py:49: DtypeWarning: Columns (30,258) have mixed types. Specify dtype option on import or set low_memory=False.\n",
      "  df = pd.read_csv(file_path)\n"
     ]
    },
    {
     "name": "stdout",
     "output_type": "stream",
     "text": [
      "Finished processing file: 2024-2025.csv\n",
      "Processing folder: Portugal-Liga-Portugal\n",
      "Processing file: 2020-2021.csv\n"
     ]
    },
    {
     "name": "stderr",
     "output_type": "stream",
     "text": [
      "C:\\Users\\Francesco\\AppData\\Local\\Temp\\ipykernel_14104\\179009458.py:49: DtypeWarning: Columns (258) have mixed types. Specify dtype option on import or set low_memory=False.\n",
      "  df = pd.read_csv(file_path)\n"
     ]
    },
    {
     "name": "stdout",
     "output_type": "stream",
     "text": [
      "Finished processing file: 2020-2021.csv\n",
      "Processing file: 2021-2022.csv\n"
     ]
    },
    {
     "name": "stderr",
     "output_type": "stream",
     "text": [
      "C:\\Users\\Francesco\\AppData\\Local\\Temp\\ipykernel_14104\\179009458.py:49: DtypeWarning: Columns (258) have mixed types. Specify dtype option on import or set low_memory=False.\n",
      "  df = pd.read_csv(file_path)\n"
     ]
    },
    {
     "name": "stdout",
     "output_type": "stream",
     "text": [
      "Finished processing file: 2021-2022.csv\n",
      "Processing file: 2022-2023.csv\n"
     ]
    },
    {
     "name": "stderr",
     "output_type": "stream",
     "text": [
      "C:\\Users\\Francesco\\AppData\\Local\\Temp\\ipykernel_14104\\179009458.py:49: DtypeWarning: Columns (258) have mixed types. Specify dtype option on import or set low_memory=False.\n",
      "  df = pd.read_csv(file_path)\n"
     ]
    },
    {
     "name": "stdout",
     "output_type": "stream",
     "text": [
      "Finished processing file: 2022-2023.csv\n",
      "Processing file: 2023-2024.csv\n"
     ]
    },
    {
     "name": "stderr",
     "output_type": "stream",
     "text": [
      "C:\\Users\\Francesco\\AppData\\Local\\Temp\\ipykernel_14104\\179009458.py:49: DtypeWarning: Columns (30,258) have mixed types. Specify dtype option on import or set low_memory=False.\n",
      "  df = pd.read_csv(file_path)\n"
     ]
    },
    {
     "name": "stdout",
     "output_type": "stream",
     "text": [
      "Finished processing file: 2023-2024.csv\n",
      "Processing file: 2024-2025.csv\n"
     ]
    },
    {
     "name": "stderr",
     "output_type": "stream",
     "text": [
      "C:\\Users\\Francesco\\AppData\\Local\\Temp\\ipykernel_14104\\179009458.py:49: DtypeWarning: Columns (258) have mixed types. Specify dtype option on import or set low_memory=False.\n",
      "  df = pd.read_csv(file_path)\n"
     ]
    },
    {
     "name": "stdout",
     "output_type": "stream",
     "text": [
      "Finished processing file: 2024-2025.csv\n",
      "Processing folder: Scotland-Premiership\n",
      "Processing file: 2020-2021.csv\n"
     ]
    },
    {
     "name": "stderr",
     "output_type": "stream",
     "text": [
      "C:\\Users\\Francesco\\AppData\\Local\\Temp\\ipykernel_14104\\179009458.py:49: DtypeWarning: Columns (258) have mixed types. Specify dtype option on import or set low_memory=False.\n",
      "  df = pd.read_csv(file_path)\n"
     ]
    },
    {
     "name": "stdout",
     "output_type": "stream",
     "text": [
      "Finished processing file: 2020-2021.csv\n",
      "Processing file: 2021-2022.csv\n"
     ]
    },
    {
     "name": "stderr",
     "output_type": "stream",
     "text": [
      "C:\\Users\\Francesco\\AppData\\Local\\Temp\\ipykernel_14104\\179009458.py:49: DtypeWarning: Columns (258) have mixed types. Specify dtype option on import or set low_memory=False.\n",
      "  df = pd.read_csv(file_path)\n"
     ]
    },
    {
     "name": "stdout",
     "output_type": "stream",
     "text": [
      "Finished processing file: 2021-2022.csv\n",
      "Processing file: 2022-2023.csv\n"
     ]
    },
    {
     "name": "stderr",
     "output_type": "stream",
     "text": [
      "C:\\Users\\Francesco\\AppData\\Local\\Temp\\ipykernel_14104\\179009458.py:49: DtypeWarning: Columns (35,37,38,258) have mixed types. Specify dtype option on import or set low_memory=False.\n",
      "  df = pd.read_csv(file_path)\n"
     ]
    },
    {
     "name": "stdout",
     "output_type": "stream",
     "text": [
      "Finished processing file: 2022-2023.csv\n",
      "Processing file: 2023-2024.csv\n"
     ]
    },
    {
     "name": "stderr",
     "output_type": "stream",
     "text": [
      "C:\\Users\\Francesco\\AppData\\Local\\Temp\\ipykernel_14104\\179009458.py:49: DtypeWarning: Columns (36,258) have mixed types. Specify dtype option on import or set low_memory=False.\n",
      "  df = pd.read_csv(file_path)\n"
     ]
    },
    {
     "name": "stdout",
     "output_type": "stream",
     "text": [
      "Finished processing file: 2023-2024.csv\n",
      "Processing file: 2024-2025.csv\n"
     ]
    },
    {
     "name": "stderr",
     "output_type": "stream",
     "text": [
      "C:\\Users\\Francesco\\AppData\\Local\\Temp\\ipykernel_14104\\179009458.py:49: DtypeWarning: Columns (258) have mixed types. Specify dtype option on import or set low_memory=False.\n",
      "  df = pd.read_csv(file_path)\n"
     ]
    },
    {
     "name": "stdout",
     "output_type": "stream",
     "text": [
      "Finished processing file: 2024-2025.csv\n",
      "Processing folder: Spain-LaLiga\n",
      "Processing file: 2020-2021.csv\n"
     ]
    },
    {
     "name": "stderr",
     "output_type": "stream",
     "text": [
      "C:\\Users\\Francesco\\AppData\\Local\\Temp\\ipykernel_14104\\179009458.py:49: DtypeWarning: Columns (36,258) have mixed types. Specify dtype option on import or set low_memory=False.\n",
      "  df = pd.read_csv(file_path)\n"
     ]
    },
    {
     "name": "stdout",
     "output_type": "stream",
     "text": [
      "Finished processing file: 2020-2021.csv\n",
      "Processing file: 2021-2022.csv\n"
     ]
    },
    {
     "name": "stderr",
     "output_type": "stream",
     "text": [
      "C:\\Users\\Francesco\\AppData\\Local\\Temp\\ipykernel_14104\\179009458.py:49: DtypeWarning: Columns (28,258) have mixed types. Specify dtype option on import or set low_memory=False.\n",
      "  df = pd.read_csv(file_path)\n"
     ]
    },
    {
     "name": "stdout",
     "output_type": "stream",
     "text": [
      "Finished processing file: 2021-2022.csv\n",
      "Processing file: 2022-2023.csv\n"
     ]
    },
    {
     "name": "stderr",
     "output_type": "stream",
     "text": [
      "C:\\Users\\Francesco\\AppData\\Local\\Temp\\ipykernel_14104\\179009458.py:49: DtypeWarning: Columns (258) have mixed types. Specify dtype option on import or set low_memory=False.\n",
      "  df = pd.read_csv(file_path)\n"
     ]
    },
    {
     "name": "stdout",
     "output_type": "stream",
     "text": [
      "Finished processing file: 2022-2023.csv\n",
      "Processing file: 2023-2024.csv\n"
     ]
    },
    {
     "name": "stderr",
     "output_type": "stream",
     "text": [
      "C:\\Users\\Francesco\\AppData\\Local\\Temp\\ipykernel_14104\\179009458.py:49: DtypeWarning: Columns (258) have mixed types. Specify dtype option on import or set low_memory=False.\n",
      "  df = pd.read_csv(file_path)\n"
     ]
    },
    {
     "name": "stdout",
     "output_type": "stream",
     "text": [
      "Finished processing file: 2023-2024.csv\n",
      "Processing file: 2024-2025.csv\n"
     ]
    },
    {
     "name": "stderr",
     "output_type": "stream",
     "text": [
      "C:\\Users\\Francesco\\AppData\\Local\\Temp\\ipykernel_14104\\179009458.py:49: DtypeWarning: Columns (258) have mixed types. Specify dtype option on import or set low_memory=False.\n",
      "  df = pd.read_csv(file_path)\n"
     ]
    },
    {
     "name": "stdout",
     "output_type": "stream",
     "text": [
      "Finished processing file: 2024-2025.csv\n",
      "Processing folder: Turkey-SuperLig\n",
      "Processing file: 2020-2021.csv\n"
     ]
    },
    {
     "name": "stderr",
     "output_type": "stream",
     "text": [
      "C:\\Users\\Francesco\\AppData\\Local\\Temp\\ipykernel_14104\\179009458.py:49: DtypeWarning: Columns (35,258) have mixed types. Specify dtype option on import or set low_memory=False.\n",
      "  df = pd.read_csv(file_path)\n"
     ]
    },
    {
     "name": "stdout",
     "output_type": "stream",
     "text": [
      "Finished processing file: 2020-2021.csv\n",
      "Processing file: 2021-2022.csv\n"
     ]
    },
    {
     "name": "stderr",
     "output_type": "stream",
     "text": [
      "C:\\Users\\Francesco\\AppData\\Local\\Temp\\ipykernel_14104\\179009458.py:49: DtypeWarning: Columns (36,258) have mixed types. Specify dtype option on import or set low_memory=False.\n",
      "  df = pd.read_csv(file_path)\n"
     ]
    },
    {
     "name": "stdout",
     "output_type": "stream",
     "text": [
      "Finished processing file: 2021-2022.csv\n",
      "Processing file: 2022-2023.csv\n"
     ]
    },
    {
     "name": "stderr",
     "output_type": "stream",
     "text": [
      "C:\\Users\\Francesco\\AppData\\Local\\Temp\\ipykernel_14104\\179009458.py:49: DtypeWarning: Columns (36,258) have mixed types. Specify dtype option on import or set low_memory=False.\n",
      "  df = pd.read_csv(file_path)\n"
     ]
    },
    {
     "name": "stdout",
     "output_type": "stream",
     "text": [
      "Finished processing file: 2022-2023.csv\n",
      "Processing file: 2023-2024.csv\n"
     ]
    },
    {
     "name": "stderr",
     "output_type": "stream",
     "text": [
      "C:\\Users\\Francesco\\AppData\\Local\\Temp\\ipykernel_14104\\179009458.py:49: DtypeWarning: Columns (258) have mixed types. Specify dtype option on import or set low_memory=False.\n",
      "  df = pd.read_csv(file_path)\n"
     ]
    },
    {
     "name": "stdout",
     "output_type": "stream",
     "text": [
      "Finished processing file: 2023-2024.csv\n",
      "Processing file: 2024-2025.csv\n"
     ]
    },
    {
     "name": "stderr",
     "output_type": "stream",
     "text": [
      "C:\\Users\\Francesco\\AppData\\Local\\Temp\\ipykernel_14104\\179009458.py:49: DtypeWarning: Columns (258) have mixed types. Specify dtype option on import or set low_memory=False.\n",
      "  df = pd.read_csv(file_path)\n"
     ]
    },
    {
     "name": "stdout",
     "output_type": "stream",
     "text": [
      "Finished processing file: 2024-2025.csv\n",
      "Processing folder: USA-Major-League-Soccer\n",
      "Processing file: 2020.csv\n"
     ]
    },
    {
     "name": "stderr",
     "output_type": "stream",
     "text": [
      "C:\\Users\\Francesco\\AppData\\Local\\Temp\\ipykernel_14104\\179009458.py:49: DtypeWarning: Columns (21,258) have mixed types. Specify dtype option on import or set low_memory=False.\n",
      "  df = pd.read_csv(file_path)\n"
     ]
    },
    {
     "name": "stdout",
     "output_type": "stream",
     "text": [
      "Finished processing file: 2020.csv\n",
      "Processing file: 2021.csv\n"
     ]
    },
    {
     "name": "stderr",
     "output_type": "stream",
     "text": [
      "C:\\Users\\Francesco\\AppData\\Local\\Temp\\ipykernel_14104\\179009458.py:49: DtypeWarning: Columns (21,35,258) have mixed types. Specify dtype option on import or set low_memory=False.\n",
      "  df = pd.read_csv(file_path)\n"
     ]
    },
    {
     "name": "stdout",
     "output_type": "stream",
     "text": [
      "Finished processing file: 2021.csv\n",
      "Processing file: 2022.csv\n"
     ]
    },
    {
     "name": "stderr",
     "output_type": "stream",
     "text": [
      "C:\\Users\\Francesco\\AppData\\Local\\Temp\\ipykernel_14104\\179009458.py:49: DtypeWarning: Columns (21,258) have mixed types. Specify dtype option on import or set low_memory=False.\n",
      "  df = pd.read_csv(file_path)\n"
     ]
    },
    {
     "name": "stdout",
     "output_type": "stream",
     "text": [
      "Finished processing file: 2022.csv\n",
      "Processing file: 2023.csv\n"
     ]
    },
    {
     "name": "stderr",
     "output_type": "stream",
     "text": [
      "C:\\Users\\Francesco\\AppData\\Local\\Temp\\ipykernel_14104\\179009458.py:49: DtypeWarning: Columns (21,258) have mixed types. Specify dtype option on import or set low_memory=False.\n",
      "  df = pd.read_csv(file_path)\n"
     ]
    },
    {
     "name": "stdout",
     "output_type": "stream",
     "text": [
      "Finished processing file: 2023.csv\n",
      "Processing file: 2024.csv\n"
     ]
    },
    {
     "name": "stderr",
     "output_type": "stream",
     "text": [
      "C:\\Users\\Francesco\\AppData\\Local\\Temp\\ipykernel_14104\\179009458.py:49: DtypeWarning: Columns (21,30,258) have mixed types. Specify dtype option on import or set low_memory=False.\n",
      "  df = pd.read_csv(file_path)\n"
     ]
    },
    {
     "name": "stdout",
     "output_type": "stream",
     "text": [
      "Finished processing file: 2024.csv\n",
      "All files processed successfully.\n"
     ]
    }
   ],
   "source": [
    "import pandas as pd\n",
    "import os\n",
    "\n",
    "# Path to the main directory containing subfolders with CSV files\n",
    "main_dir = os.getcwd()\n",
    "\n",
    "# Output file to save results\n",
    "output_file = 'carries.csv'\n",
    "\n",
    "# Check if output file exists\n",
    "file_exists = os.path.isfile(output_file)\n",
    "\n",
    "from math import sqrt\n",
    "\n",
    "# Define the rescaling function\n",
    "def rescale(value, old_min, old_max, new_min, new_max):\n",
    "    if pd.notna(value):  # Only rescale if the value is not NaN\n",
    "        return round((value - old_min) / (old_max - old_min) * (new_max - new_min) + new_min, 1)\n",
    "    return value  # Return NaN as-is\n",
    "\n",
    "# Function to calculate Euclidean distance\n",
    "def calculate_distance(x1, y1, x2, y2):\n",
    "    if pd.notna(x1) and pd.notna(y1) and pd.notna(x2) and pd.notna(y2):\n",
    "        #return sqrt((x2 - x1) ** 2 + (y2 - y1) ** 2)\n",
    "        return round(sqrt((x2 - x1) ** 2 + (y2 - y1) ** 2), 1)\n",
    "    return 0\n",
    "\n",
    "\n",
    "carry_id = 1\n",
    "\n",
    "# Iterate through each subfolder in the main directory\n",
    "for subfolder in os.listdir(main_dir):\n",
    "    subfolder_path = os.path.join(main_dir, subfolder)\n",
    "\n",
    "    # Check if it is a directory\n",
    "    if os.path.isdir(subfolder_path):\n",
    "        print(f\"Processing folder: {subfolder}\")\n",
    "\n",
    "        # Iterate through all CSV files in the subfolder\n",
    "        for file in os.listdir(subfolder_path):\n",
    "            if file.endswith('.csv'):\n",
    "                file_path = os.path.join(subfolder_path, file)\n",
    "                print(f\"Processing file: {file}\")\n",
    "\n",
    "                # Extract the season from the file name\n",
    "                season = file.replace(\".csv\", \"\")\n",
    "\n",
    "                # Read the CSV file\n",
    "                df = pd.read_csv(file_path)\n",
    "\n",
    "                # Add the 'season' column with the same value for all rows\n",
    "                df['season'] = season\n",
    "\n",
    "                # Initialize an empty list for all match results\n",
    "                season_carries = []\n",
    "\n",
    "                # Iterate over each unique matchId in the dataset\n",
    "                for match_id in df['matchId'].unique():\n",
    "                    match_df = df[df['matchId'] == match_id]\n",
    "                    match_carries = []\n",
    "\n",
    "                    # Identify carries based on conditions\n",
    "                    for i in range(len(match_df) - 1):\n",
    "                        event1 = match_df.iloc[i]\n",
    "                        event2 = match_df.iloc[i + 1]\n",
    "\n",
    "                        # Condition 1: Consecutive events by the same team or player\n",
    "                        if (\n",
    "                            event1['teamId'] == event2['teamId'] and\n",
    "                            event1['type'] in ['Pass', 'TakeOn', 'Tackle', 'BallRecovery'] and\n",
    "                            event1['outcomeType'] == 'Successful' and\n",
    "                            (\n",
    "                                event2['type'] in ['Pass', 'TakeOn', 'Tackle', 'Dispossessed', 'Foul'] or \n",
    "                                event2['isShot'] == 1 #True value\n",
    "                            )\n",
    "                        ):\n",
    "                            x, y = rescale(event1['endX'], 0, 100, 0, 105), rescale(event1['endY'], 0, 100, 0, 69)\n",
    "                            endX, endY = rescale(event2['x'], 0, 100, 0, 105), rescale(event2['y'], 0, 100, 0, 69)\n",
    "                            length = calculate_distance(x, y, endX, endY)\n",
    "\n",
    "                            if length >= 5:\n",
    "                                match_carries.append({\n",
    "                                    'season': season,\n",
    "                                    'matchId': match_id,\n",
    "                                    'teamId': event2['teamId'],\n",
    "                                    'playerId': event2['playerId'],\n",
    "                                    'playerName': event2['playerName'],\n",
    "                                    'type': 'Carry',\n",
    "                                    'x': x,\n",
    "                                    'y': y,\n",
    "                                    'endX': endX,\n",
    "                                    'endY': endY,\n",
    "                                    'carryId': carry_id,\n",
    "                                    'carryLength': length\n",
    "                                })\n",
    "                                carry_id += 1\n",
    "\n",
    "                        # Condition 2: TakeOn in a sequence of three events\n",
    "                        if i < len(match_df) - 2:\n",
    "                            event3 = match_df.iloc[i + 2]\n",
    "                            if (\n",
    "                                event1['teamId'] != event2['teamId'] and\n",
    "                                event2['teamId'] != event3['teamId'] and\n",
    "                                event2['type'] == 'TakeOn' and\n",
    "                                pd.notna(event1['endX']) and pd.notna(event1['endY'])\n",
    "                            ):\n",
    "                                x, y = rescale(105 - event1['endX'], 0, 100, 0, 105), rescale(69 - event1['endY'], 0, 100, 0, 69)\n",
    "                                endX, endY = rescale(105 - event3['x'], 0, 100, 0, 105), rescale(69 - event3['y'], 0, 100, 0, 69)\n",
    "                                length = calculate_distance(x, y, endX, endY)\n",
    "\n",
    "                                if length >= 5:\n",
    "                                    match_carries.append({\n",
    "                                        'season': season,\n",
    "                                        'matchId': match_id,\n",
    "                                        'teamId': event2['teamId'],\n",
    "                                        'playerId': event2['playerId'],\n",
    "                                        'playerName': event2['playerName'],\n",
    "                                        'type': 'Carry',\n",
    "                                        'x': x,\n",
    "                                        'y': y,\n",
    "                                        'endX': endX,\n",
    "                                        'endY': endY,\n",
    "                                        'carryId': carry_id,\n",
    "                                        'carryLength': length\n",
    "                                    })\n",
    "                                    carry_id += 1\n",
    "\n",
    "                        # Condition 3: Events between opposing teams\n",
    "                        if (\n",
    "                            event1['teamId'] != event2['teamId'] and\n",
    "                            event1['type'] == 'BallRecovery' and\n",
    "                            event2['type'] in ['BallRecovery', 'Tackle']\n",
    "                        ):\n",
    "                            x, y = rescale(event1['x'], 0, 100, 0, 105), rescale(event1['y'], 0, 100, 0, 69)\n",
    "                            endX, endY = rescale(105 - event2['x'], 0, 100, 0, 105), rescale(69 - event2['y'], 0, 100, 0, 69)\n",
    "                            length = calculate_distance(x, y, endX, endY)\n",
    "\n",
    "                            if length >= 5:\n",
    "                                match_carries.append({\n",
    "                                    'season': season,\n",
    "                                    'matchId': match_id,\n",
    "                                    'teamId': event1['teamId'],\n",
    "                                    'playerId': event1['playerId'],\n",
    "                                    'playerName': event1['playerName'],\n",
    "                                    'type': 'Carry',\n",
    "                                    'x': x,\n",
    "                                    'y': y,\n",
    "                                    'endX': endX,\n",
    "                                    'endY': endY,\n",
    "                                    'carryId': carry_id,\n",
    "                                    'carryLength': length\n",
    "                                })\n",
    "                                carry_id += 1\n",
    "\n",
    "                    # Add the match carries to the season carries list\n",
    "                    season_carries.extend(match_carries)\n",
    "\n",
    "                # Convert carry data to DataFrame\n",
    "                carries_df = pd.DataFrame(season_carries)\n",
    "                # Save to the output CSV file\n",
    "                if not file_exists:\n",
    "                    # Create the file and save the data\n",
    "                    carries_df.to_csv(output_file, index=False, mode='w')\n",
    "                    file_exists = True  # Now the file exists\n",
    "                else:\n",
    "                    # Append to the existing file\n",
    "                    carries_df.to_csv(output_file, index=False, header=False, mode='a')\n",
    "\n",
    "                # Release memory for the current DataFrame\n",
    "                del df, carries_df\n",
    "                print(f\"Finished processing file: {file}\")\n",
    "\n",
    "print(\"All files processed successfully.\")\n"
   ]
  }
 ],
 "metadata": {
  "kernelspec": {
   "display_name": "NBA_Project",
   "language": "python",
   "name": "python3"
  },
  "language_info": {
   "codemirror_mode": {
    "name": "ipython",
    "version": 3
   },
   "file_extension": ".py",
   "mimetype": "text/x-python",
   "name": "python",
   "nbconvert_exporter": "python",
   "pygments_lexer": "ipython3",
   "version": "3.8.19"
  }
 },
 "nbformat": 4,
 "nbformat_minor": 2
}
