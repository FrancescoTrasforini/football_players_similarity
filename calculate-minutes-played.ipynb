{
 "cells": [
  {
   "cell_type": "code",
   "execution_count": null,
   "metadata": {},
   "outputs": [
    {
     "name": "stderr",
     "output_type": "stream",
     "text": [
      "C:\\Users\\Francesco\\AppData\\Local\\Temp\\ipykernel_18596\\2662113742.py:6: DtypeWarning: Columns (258) have mixed types. Specify dtype option on import or set low_memory=False.\n",
      "  df = pd.read_csv(file_path)\n"
     ]
    },
    {
     "name": "stdout",
     "output_type": "stream",
     "text": [
      "       season  matchId  playerId             playerName  teamId  minutesPlayed\n",
      "0   2024-2025  1834868  447570.0            Zion Suzuki   24341             95\n",
      "1   2024-2025  1834868  447492.0         Woyo Coulibaly   24341             95\n",
      "2   2024-2025  1834868  343512.0        Emanuele Valeri   24341             95\n",
      "3   2024-2025  1834868  367177.0             Simon Sohm   24341             78\n",
      "4   2024-2025  1834868  396424.0          Botond Balogh   24341             95\n",
      "5   2024-2025  1834868  447486.0     Alessandro Circati   24341             95\n",
      "6   2024-2025  1834868  329769.0             Dennis Man   24341             67\n",
      "7   2024-2025  1834868  362683.0         Nahuel Estévez   24341             95\n",
      "8   2024-2025  1834868  447489.0        Ange-Yoan Bonny   24341             67\n",
      "9   2024-2025  1834868  363978.0         Adrián Bernabé   24341             82\n",
      "10  2024-2025  1834868  400090.0       Valentin Mihaila   24341             67\n",
      "11  2024-2025  1834868  106277.0     Pietro Terracciano      73             95\n",
      "12  2024-2025  1834868  317675.0                   Dodô      73             95\n",
      "13  2024-2025  1834868   93935.0      Cristiano Biraghi      73             95\n",
      "14  2024-2025  1834868  495757.0         Pietro Comuzzo      73             75\n",
      "15  2024-2025  1834868  336048.0        Marin Pongracic      73             85\n",
      "16  2024-2025  1834868  329854.0  Lucas Martínez Quarta      73             62\n",
      "17  2024-2025  1834868  241020.0     Rolando Mandragora      73             75\n",
      "18  2024-2025  1834868  248144.0         Sofyan Amrabat      73             95\n",
      "19  2024-2025  1834868  328990.0             Moise Kean      73             95\n",
      "20  2024-2025  1834868  356733.0         Andrea Colpani      73             62\n",
      "21  2024-2025  1834868  322217.0       Christian Kouamé      73             81\n",
      "22  2024-2025  1834868  322094.0         Jonathan Ikoné      73             33\n",
      "23  2024-2025  1834868  423918.0         Fabiano Parisi      73             33\n",
      "24  2024-2025  1834868  345600.0        Pontus Almqvist   24341             28\n",
      "25  2024-2025  1834868  364320.0          Drissa Camara   24341             28\n",
      "26  2024-2025  1834868  447493.0        Antoine Hainaut   24341             28\n",
      "27  2024-2025  1834868  470031.0         Michael Kayode      73             20\n",
      "28  2024-2025  1834868  410025.0      Alessandro Bianco      73             20\n",
      "29  2024-2025  1834868  404497.0     Matteo Cancellieri   24341             17\n",
      "30  2024-2025  1834868  355391.0        Riccardo Sottil      73             14\n",
      "31  2024-2025  1834868  123873.0          Wylan Cyprien   24341             13\n"
     ]
    }
   ],
   "source": [
    "# Use this cell for a single match\n",
    "\n",
    "import pandas as pd\n",
    "import ast\n",
    "\n",
    "# Load the dataset\n",
    "file_path = \"Italy-Serie-A/2024-2025.csv\"\n",
    "df = pd.read_csv(file_path)\n",
    "\n",
    "# Extract the season from the file name\n",
    "season = file_path.split(\"/\")[-1].replace(\".csv\", \"\")\n",
    "\n",
    "# Filter for the specific match\n",
    "match_id = 1834868\n",
    "match_df = df[df['matchId'] == match_id]\n",
    "\n",
    "# Filter for PreMatch event to find starters and total match minutes for home and away teams\n",
    "home_formation = match_df[(match_df['period'] == 'PreMatch') & \n",
    "                           (match_df['type'] == 'FormationSet') & \n",
    "                           (match_df['h_a'] == 'h')].iloc[0]\n",
    "\n",
    "away_formation = match_df[(match_df['period'] == 'PreMatch') & \n",
    "                           (match_df['type'] == 'FormationSet') & \n",
    "                           (match_df['h_a'] == 'a')].iloc[0]\n",
    "\n",
    "# Parse qualifiers to get involved players (starters)\n",
    "home_qualifiers = ast.literal_eval(home_formation['qualifiers'])\n",
    "away_qualifiers = ast.literal_eval(away_formation['qualifiers'])\n",
    "\n",
    "# Get involved players and take only the first 11 for starters\n",
    "home_involved_players = next(q['value'] for q in home_qualifiers if q['type'] == 'InvolvedPlayers')\n",
    "away_involved_players = next(q['value'] for q in away_qualifiers if q['type'] == 'InvolvedPlayers')\n",
    "\n",
    "home_starters = list(map(int, home_involved_players.split(',')[:11]))\n",
    "away_starters = list(map(int, away_involved_players.split(',')[:11]))\n",
    "\n",
    "# Get the total match minutes (the full duration of the match)\n",
    "total_match_minutes = home_formation['maxMinute']\n",
    "\n",
    "# Filter substitution events\n",
    "subs_off = match_df[match_df['type'] == 'SubstitutionOff']\n",
    "subs_on = match_df[match_df['type'] == 'SubstitutionOn']\n",
    "\n",
    "# Filter red card events\n",
    "red_card_events = match_df[match_df['redCard'] == True]\n",
    "\n",
    "# Create a dictionary for playerName using first occurrence of playerId\n",
    "player_name_dict = dict(zip(df['playerId'], df['playerName']))\n",
    "\n",
    "# Initialize results list\n",
    "results = []\n",
    "\n",
    "# Process home starters\n",
    "for player_id in home_starters:\n",
    "    sub_off_event = subs_off[subs_off['playerId'] == player_id]\n",
    "    minutes_played = total_match_minutes if sub_off_event.empty else sub_off_event.iloc[0]['expandedMinute']\n",
    "    \n",
    "    # Check for red card\n",
    "    red_card_event = red_card_events[red_card_events['playerId'] == player_id]\n",
    "    if not red_card_event.empty:\n",
    "        minutes_played = red_card_event.iloc[0]['expandedMinute']  # Red card minute overrides\n",
    "    \n",
    "    results.append({\n",
    "        'season': season,\n",
    "        'matchId': home_formation['matchId'],\n",
    "        'playerId': player_id,\n",
    "        'playerName': player_name_dict.get(player_id, 'Unknown'),\n",
    "        'teamId': home_formation['teamId'],\n",
    "        'minutesPlayed': minutes_played\n",
    "    })\n",
    "\n",
    "# Process away starters\n",
    "for player_id in away_starters:\n",
    "    sub_off_event = subs_off[subs_off['playerId'] == player_id]\n",
    "    minutes_played = total_match_minutes if sub_off_event.empty else sub_off_event.iloc[0]['expandedMinute']\n",
    "    \n",
    "    # Check for red card\n",
    "    red_card_event = red_card_events[red_card_events['playerId'] == player_id]\n",
    "    if not red_card_event.empty:\n",
    "        minutes_played = red_card_event.iloc[0]['expandedMinute']  # Red card minute overrides\n",
    "    \n",
    "    results.append({\n",
    "        'season': season,\n",
    "        'matchId': away_formation['matchId'],\n",
    "        'playerId': player_id,\n",
    "        'playerName': player_name_dict.get(player_id, 'Unknown'),\n",
    "        'teamId': away_formation['teamId'],\n",
    "        'minutesPlayed': minutes_played\n",
    "    })\n",
    "\n",
    "# Process substitute players\n",
    "for _, sub_on_event in subs_on.iterrows():\n",
    "    player_id = sub_on_event['playerId']\n",
    "    sub_off_event = subs_off[subs_off['playerId'] == player_id]\n",
    "    minutes_played = total_match_minutes - sub_on_event['expandedMinute'] if sub_off_event.empty else sub_off_event.iloc[0]['expandedMinute'] - sub_on_event['expandedMinute']\n",
    "    \n",
    "    # Check for red card\n",
    "    red_card_event = red_card_events[red_card_events['playerId'] == player_id]\n",
    "    if not red_card_event.empty:\n",
    "        minutes_played = red_card_event.iloc[0]['expandedMinute'] - sub_on_event['expandedMinute']  # Red card minute overrides\n",
    "    \n",
    "    # Add player if not already added (prevent duplicates)\n",
    "    if not any(result['playerId'] == player_id for result in results):\n",
    "        results.append({\n",
    "            'season': season,\n",
    "            'matchId': sub_on_event['matchId'],\n",
    "            'playerId': player_id,\n",
    "            'playerName': player_name_dict.get(player_id, 'Unknown'),\n",
    "            'teamId': sub_on_event['teamId'],\n",
    "            'minutesPlayed': minutes_played\n",
    "        })\n",
    "\n",
    "# Convert results to a DataFrame\n",
    "result_df = pd.DataFrame(results)\n",
    "\n",
    "# Display the resulting table\n",
    "print(result_df)"
   ]
  },
  {
   "cell_type": "code",
   "execution_count": null,
   "metadata": {},
   "outputs": [
    {
     "name": "stdout",
     "output_type": "stream",
     "text": [
      "Processing folder: .git\n",
      "Processing folder: Belgium-Jupiler-Pro-League\n",
      "Processing file: 2020-2021.csv\n"
     ]
    },
    {
     "name": "stderr",
     "output_type": "stream",
     "text": [
      "C:\\Users\\Francesco\\AppData\\Local\\Temp\\ipykernel_7992\\1991877013.py:32: DtypeWarning: Columns (35,258) have mixed types. Specify dtype option on import or set low_memory=False.\n",
      "  df = pd.read_csv(file_path)\n"
     ]
    },
    {
     "name": "stdout",
     "output_type": "stream",
     "text": [
      "Finished processing file: 2020-2021.csv\n",
      "Processing file: 2021-2022.csv\n"
     ]
    },
    {
     "name": "stderr",
     "output_type": "stream",
     "text": [
      "C:\\Users\\Francesco\\AppData\\Local\\Temp\\ipykernel_7992\\1991877013.py:32: DtypeWarning: Columns (258) have mixed types. Specify dtype option on import or set low_memory=False.\n",
      "  df = pd.read_csv(file_path)\n"
     ]
    },
    {
     "name": "stdout",
     "output_type": "stream",
     "text": [
      "Finished processing file: 2021-2022.csv\n",
      "Processing file: 2022-2023.csv\n"
     ]
    },
    {
     "name": "stderr",
     "output_type": "stream",
     "text": [
      "C:\\Users\\Francesco\\AppData\\Local\\Temp\\ipykernel_7992\\1991877013.py:32: DtypeWarning: Columns (258) have mixed types. Specify dtype option on import or set low_memory=False.\n",
      "  df = pd.read_csv(file_path)\n"
     ]
    },
    {
     "name": "stdout",
     "output_type": "stream",
     "text": [
      "Finished processing file: 2022-2023.csv\n",
      "Processing file: 2023-2024.csv\n"
     ]
    },
    {
     "name": "stderr",
     "output_type": "stream",
     "text": [
      "C:\\Users\\Francesco\\AppData\\Local\\Temp\\ipykernel_7992\\1991877013.py:32: DtypeWarning: Columns (35,258) have mixed types. Specify dtype option on import or set low_memory=False.\n",
      "  df = pd.read_csv(file_path)\n"
     ]
    },
    {
     "name": "stdout",
     "output_type": "stream",
     "text": [
      "Finished processing file: 2023-2024.csv\n",
      "Processing file: 2024-2025.csv\n"
     ]
    },
    {
     "name": "stderr",
     "output_type": "stream",
     "text": [
      "C:\\Users\\Francesco\\AppData\\Local\\Temp\\ipykernel_7992\\1991877013.py:32: DtypeWarning: Columns (258) have mixed types. Specify dtype option on import or set low_memory=False.\n",
      "  df = pd.read_csv(file_path)\n"
     ]
    },
    {
     "name": "stdout",
     "output_type": "stream",
     "text": [
      "Finished processing file: 2024-2025.csv\n",
      "Processing folder: Brazil-Brasileirão\n",
      "Processing file: 2020.csv\n"
     ]
    },
    {
     "name": "stderr",
     "output_type": "stream",
     "text": [
      "C:\\Users\\Francesco\\AppData\\Local\\Temp\\ipykernel_7992\\1991877013.py:32: DtypeWarning: Columns (258) have mixed types. Specify dtype option on import or set low_memory=False.\n",
      "  df = pd.read_csv(file_path)\n"
     ]
    },
    {
     "name": "stdout",
     "output_type": "stream",
     "text": [
      "Finished processing file: 2020.csv\n",
      "Processing file: 2021.csv\n"
     ]
    },
    {
     "name": "stderr",
     "output_type": "stream",
     "text": [
      "C:\\Users\\Francesco\\AppData\\Local\\Temp\\ipykernel_7992\\1991877013.py:32: DtypeWarning: Columns (258) have mixed types. Specify dtype option on import or set low_memory=False.\n",
      "  df = pd.read_csv(file_path)\n"
     ]
    },
    {
     "name": "stdout",
     "output_type": "stream",
     "text": [
      "Finished processing file: 2021.csv\n",
      "Processing file: 2022.csv\n"
     ]
    },
    {
     "name": "stderr",
     "output_type": "stream",
     "text": [
      "C:\\Users\\Francesco\\AppData\\Local\\Temp\\ipykernel_7992\\1991877013.py:32: DtypeWarning: Columns (258) have mixed types. Specify dtype option on import or set low_memory=False.\n",
      "  df = pd.read_csv(file_path)\n"
     ]
    },
    {
     "name": "stdout",
     "output_type": "stream",
     "text": [
      "Finished processing file: 2022.csv\n",
      "Processing file: 2023.csv\n"
     ]
    },
    {
     "name": "stderr",
     "output_type": "stream",
     "text": [
      "C:\\Users\\Francesco\\AppData\\Local\\Temp\\ipykernel_7992\\1991877013.py:32: DtypeWarning: Columns (258) have mixed types. Specify dtype option on import or set low_memory=False.\n",
      "  df = pd.read_csv(file_path)\n"
     ]
    },
    {
     "name": "stdout",
     "output_type": "stream",
     "text": [
      "Finished processing file: 2023.csv\n",
      "Processing file: 2024.csv\n"
     ]
    },
    {
     "name": "stderr",
     "output_type": "stream",
     "text": [
      "C:\\Users\\Francesco\\AppData\\Local\\Temp\\ipykernel_7992\\1991877013.py:32: DtypeWarning: Columns (258) have mixed types. Specify dtype option on import or set low_memory=False.\n",
      "  df = pd.read_csv(file_path)\n"
     ]
    },
    {
     "name": "stdout",
     "output_type": "stream",
     "text": [
      "Finished processing file: 2024.csv\n",
      "Processing folder: England-Championship\n",
      "Processing file: 2020-2021.csv\n"
     ]
    },
    {
     "name": "stderr",
     "output_type": "stream",
     "text": [
      "C:\\Users\\Francesco\\AppData\\Local\\Temp\\ipykernel_7992\\1991877013.py:32: DtypeWarning: Columns (36,258) have mixed types. Specify dtype option on import or set low_memory=False.\n",
      "  df = pd.read_csv(file_path)\n"
     ]
    },
    {
     "name": "stdout",
     "output_type": "stream",
     "text": [
      "Finished processing file: 2020-2021.csv\n",
      "Processing file: 2021-2022.csv\n"
     ]
    },
    {
     "name": "stderr",
     "output_type": "stream",
     "text": [
      "C:\\Users\\Francesco\\AppData\\Local\\Temp\\ipykernel_7992\\1991877013.py:32: DtypeWarning: Columns (21,36,258) have mixed types. Specify dtype option on import or set low_memory=False.\n",
      "  df = pd.read_csv(file_path)\n"
     ]
    },
    {
     "name": "stdout",
     "output_type": "stream",
     "text": [
      "Finished processing file: 2021-2022.csv\n",
      "Processing file: 2022-2023.csv\n"
     ]
    },
    {
     "name": "stderr",
     "output_type": "stream",
     "text": [
      "C:\\Users\\Francesco\\AppData\\Local\\Temp\\ipykernel_7992\\1991877013.py:32: DtypeWarning: Columns (21,36,258) have mixed types. Specify dtype option on import or set low_memory=False.\n",
      "  df = pd.read_csv(file_path)\n"
     ]
    },
    {
     "name": "stdout",
     "output_type": "stream",
     "text": [
      "Finished processing file: 2022-2023.csv\n",
      "Processing file: 2023-2024.csv\n"
     ]
    },
    {
     "name": "stderr",
     "output_type": "stream",
     "text": [
      "C:\\Users\\Francesco\\AppData\\Local\\Temp\\ipykernel_7992\\1991877013.py:32: DtypeWarning: Columns (258) have mixed types. Specify dtype option on import or set low_memory=False.\n",
      "  df = pd.read_csv(file_path)\n"
     ]
    },
    {
     "name": "stdout",
     "output_type": "stream",
     "text": [
      "Finished processing file: 2023-2024.csv\n",
      "Processing file: 2024-2025.csv\n"
     ]
    },
    {
     "name": "stderr",
     "output_type": "stream",
     "text": [
      "C:\\Users\\Francesco\\AppData\\Local\\Temp\\ipykernel_7992\\1991877013.py:32: DtypeWarning: Columns (258) have mixed types. Specify dtype option on import or set low_memory=False.\n",
      "  df = pd.read_csv(file_path)\n"
     ]
    },
    {
     "name": "stdout",
     "output_type": "stream",
     "text": [
      "Finished processing file: 2024-2025.csv\n",
      "Processing folder: England-League-One\n",
      "Processing file: 2020-2021.csv\n"
     ]
    },
    {
     "name": "stderr",
     "output_type": "stream",
     "text": [
      "C:\\Users\\Francesco\\AppData\\Local\\Temp\\ipykernel_7992\\1991877013.py:32: DtypeWarning: Columns (36,258) have mixed types. Specify dtype option on import or set low_memory=False.\n",
      "  df = pd.read_csv(file_path)\n"
     ]
    },
    {
     "name": "stdout",
     "output_type": "stream",
     "text": [
      "Finished processing file: 2020-2021.csv\n",
      "Processing file: 2021-2022.csv\n"
     ]
    },
    {
     "name": "stderr",
     "output_type": "stream",
     "text": [
      "C:\\Users\\Francesco\\AppData\\Local\\Temp\\ipykernel_7992\\1991877013.py:32: DtypeWarning: Columns (258) have mixed types. Specify dtype option on import or set low_memory=False.\n",
      "  df = pd.read_csv(file_path)\n"
     ]
    },
    {
     "name": "stdout",
     "output_type": "stream",
     "text": [
      "Finished processing file: 2021-2022.csv\n",
      "Processing file: 2022-2023.csv\n"
     ]
    },
    {
     "name": "stderr",
     "output_type": "stream",
     "text": [
      "C:\\Users\\Francesco\\AppData\\Local\\Temp\\ipykernel_7992\\1991877013.py:32: DtypeWarning: Columns (21,36,258) have mixed types. Specify dtype option on import or set low_memory=False.\n",
      "  df = pd.read_csv(file_path)\n"
     ]
    },
    {
     "name": "stdout",
     "output_type": "stream",
     "text": [
      "Finished processing file: 2022-2023.csv\n",
      "Processing file: 2023-2024.csv\n"
     ]
    },
    {
     "name": "stderr",
     "output_type": "stream",
     "text": [
      "C:\\Users\\Francesco\\AppData\\Local\\Temp\\ipykernel_7992\\1991877013.py:32: DtypeWarning: Columns (258) have mixed types. Specify dtype option on import or set low_memory=False.\n",
      "  df = pd.read_csv(file_path)\n"
     ]
    },
    {
     "name": "stdout",
     "output_type": "stream",
     "text": [
      "Finished processing file: 2023-2024.csv\n",
      "Processing file: 2024-2025.csv\n"
     ]
    },
    {
     "name": "stderr",
     "output_type": "stream",
     "text": [
      "C:\\Users\\Francesco\\AppData\\Local\\Temp\\ipykernel_7992\\1991877013.py:32: DtypeWarning: Columns (258) have mixed types. Specify dtype option on import or set low_memory=False.\n",
      "  df = pd.read_csv(file_path)\n"
     ]
    },
    {
     "name": "stdout",
     "output_type": "stream",
     "text": [
      "Finished processing file: 2024-2025.csv\n",
      "Processing folder: England-League-Two\n",
      "Processing file: 2020-2021.csv\n"
     ]
    },
    {
     "name": "stderr",
     "output_type": "stream",
     "text": [
      "C:\\Users\\Francesco\\AppData\\Local\\Temp\\ipykernel_7992\\1991877013.py:32: DtypeWarning: Columns (21,35,258) have mixed types. Specify dtype option on import or set low_memory=False.\n",
      "  df = pd.read_csv(file_path)\n"
     ]
    },
    {
     "name": "stdout",
     "output_type": "stream",
     "text": [
      "Finished processing file: 2020-2021.csv\n",
      "Processing file: 2021-2022.csv\n"
     ]
    },
    {
     "name": "stderr",
     "output_type": "stream",
     "text": [
      "C:\\Users\\Francesco\\AppData\\Local\\Temp\\ipykernel_7992\\1991877013.py:32: DtypeWarning: Columns (21,33,258) have mixed types. Specify dtype option on import or set low_memory=False.\n",
      "  df = pd.read_csv(file_path)\n"
     ]
    },
    {
     "name": "stdout",
     "output_type": "stream",
     "text": [
      "Finished processing file: 2021-2022.csv\n",
      "Processing file: 2022-2023.csv\n"
     ]
    },
    {
     "name": "stderr",
     "output_type": "stream",
     "text": [
      "C:\\Users\\Francesco\\AppData\\Local\\Temp\\ipykernel_7992\\1991877013.py:32: DtypeWarning: Columns (22,258) have mixed types. Specify dtype option on import or set low_memory=False.\n",
      "  df = pd.read_csv(file_path)\n"
     ]
    },
    {
     "name": "stdout",
     "output_type": "stream",
     "text": [
      "Finished processing file: 2022-2023.csv\n",
      "Processing file: 2023-2024.csv\n"
     ]
    },
    {
     "name": "stderr",
     "output_type": "stream",
     "text": [
      "C:\\Users\\Francesco\\AppData\\Local\\Temp\\ipykernel_7992\\1991877013.py:32: DtypeWarning: Columns (21,36,258) have mixed types. Specify dtype option on import or set low_memory=False.\n",
      "  df = pd.read_csv(file_path)\n"
     ]
    },
    {
     "name": "stdout",
     "output_type": "stream",
     "text": [
      "Finished processing file: 2023-2024.csv\n",
      "Processing file: 2024-2025.csv\n"
     ]
    },
    {
     "name": "stderr",
     "output_type": "stream",
     "text": [
      "C:\\Users\\Francesco\\AppData\\Local\\Temp\\ipykernel_7992\\1991877013.py:32: DtypeWarning: Columns (258) have mixed types. Specify dtype option on import or set low_memory=False.\n",
      "  df = pd.read_csv(file_path)\n"
     ]
    },
    {
     "name": "stdout",
     "output_type": "stream",
     "text": [
      "Finished processing file: 2024-2025.csv\n",
      "Processing folder: England-Premier-League\n",
      "Processing file: 2020-2021.csv\n"
     ]
    },
    {
     "name": "stderr",
     "output_type": "stream",
     "text": [
      "C:\\Users\\Francesco\\AppData\\Local\\Temp\\ipykernel_7992\\1991877013.py:32: DtypeWarning: Columns (33,258) have mixed types. Specify dtype option on import or set low_memory=False.\n",
      "  df = pd.read_csv(file_path)\n"
     ]
    },
    {
     "name": "stdout",
     "output_type": "stream",
     "text": [
      "Finished processing file: 2020-2021.csv\n",
      "Processing file: 2021-2022.csv\n"
     ]
    },
    {
     "name": "stderr",
     "output_type": "stream",
     "text": [
      "C:\\Users\\Francesco\\AppData\\Local\\Temp\\ipykernel_7992\\1991877013.py:32: DtypeWarning: Columns (258) have mixed types. Specify dtype option on import or set low_memory=False.\n",
      "  df = pd.read_csv(file_path)\n"
     ]
    },
    {
     "name": "stdout",
     "output_type": "stream",
     "text": [
      "Finished processing file: 2021-2022.csv\n",
      "Processing file: 2022-2023.csv\n"
     ]
    },
    {
     "name": "stderr",
     "output_type": "stream",
     "text": [
      "C:\\Users\\Francesco\\AppData\\Local\\Temp\\ipykernel_7992\\1991877013.py:32: DtypeWarning: Columns (37) have mixed types. Specify dtype option on import or set low_memory=False.\n",
      "  df = pd.read_csv(file_path)\n"
     ]
    },
    {
     "name": "stdout",
     "output_type": "stream",
     "text": [
      "Finished processing file: 2022-2023.csv\n",
      "Processing file: 2023-2024.csv\n"
     ]
    },
    {
     "name": "stderr",
     "output_type": "stream",
     "text": [
      "C:\\Users\\Francesco\\AppData\\Local\\Temp\\ipykernel_7992\\1991877013.py:32: DtypeWarning: Columns (258) have mixed types. Specify dtype option on import or set low_memory=False.\n",
      "  df = pd.read_csv(file_path)\n"
     ]
    },
    {
     "name": "stdout",
     "output_type": "stream",
     "text": [
      "Finished processing file: 2023-2024.csv\n",
      "Processing file: 2024-2025.csv\n"
     ]
    },
    {
     "name": "stderr",
     "output_type": "stream",
     "text": [
      "C:\\Users\\Francesco\\AppData\\Local\\Temp\\ipykernel_7992\\1991877013.py:32: DtypeWarning: Columns (258) have mixed types. Specify dtype option on import or set low_memory=False.\n",
      "  df = pd.read_csv(file_path)\n"
     ]
    },
    {
     "name": "stdout",
     "output_type": "stream",
     "text": [
      "Finished processing file: 2024-2025.csv\n",
      "Processing folder: France-Ligue-1\n",
      "Processing file: 2020-2021.csv\n"
     ]
    },
    {
     "name": "stderr",
     "output_type": "stream",
     "text": [
      "C:\\Users\\Francesco\\AppData\\Local\\Temp\\ipykernel_7992\\1991877013.py:32: DtypeWarning: Columns (28,258) have mixed types. Specify dtype option on import or set low_memory=False.\n",
      "  df = pd.read_csv(file_path)\n"
     ]
    },
    {
     "name": "stdout",
     "output_type": "stream",
     "text": [
      "Finished processing file: 2020-2021.csv\n",
      "Processing file: 2021-2022.csv\n"
     ]
    },
    {
     "name": "stderr",
     "output_type": "stream",
     "text": [
      "C:\\Users\\Francesco\\AppData\\Local\\Temp\\ipykernel_7992\\1991877013.py:32: DtypeWarning: Columns (258) have mixed types. Specify dtype option on import or set low_memory=False.\n",
      "  df = pd.read_csv(file_path)\n"
     ]
    },
    {
     "name": "stdout",
     "output_type": "stream",
     "text": [
      "Finished processing file: 2021-2022.csv\n",
      "Processing file: 2022-2023.csv\n"
     ]
    },
    {
     "name": "stderr",
     "output_type": "stream",
     "text": [
      "C:\\Users\\Francesco\\AppData\\Local\\Temp\\ipykernel_7992\\1991877013.py:32: DtypeWarning: Columns (36,258) have mixed types. Specify dtype option on import or set low_memory=False.\n",
      "  df = pd.read_csv(file_path)\n"
     ]
    },
    {
     "name": "stdout",
     "output_type": "stream",
     "text": [
      "Finished processing file: 2022-2023.csv\n",
      "Processing file: 2023-2024.csv\n"
     ]
    },
    {
     "name": "stderr",
     "output_type": "stream",
     "text": [
      "C:\\Users\\Francesco\\AppData\\Local\\Temp\\ipykernel_7992\\1991877013.py:32: DtypeWarning: Columns (36,37,38,258) have mixed types. Specify dtype option on import or set low_memory=False.\n",
      "  df = pd.read_csv(file_path)\n"
     ]
    },
    {
     "name": "stdout",
     "output_type": "stream",
     "text": [
      "Finished processing file: 2023-2024.csv\n",
      "Processing file: 2024-2025.csv\n"
     ]
    },
    {
     "name": "stderr",
     "output_type": "stream",
     "text": [
      "C:\\Users\\Francesco\\AppData\\Local\\Temp\\ipykernel_7992\\1991877013.py:32: DtypeWarning: Columns (258) have mixed types. Specify dtype option on import or set low_memory=False.\n",
      "  df = pd.read_csv(file_path)\n"
     ]
    },
    {
     "name": "stdout",
     "output_type": "stream",
     "text": [
      "Finished processing file: 2024-2025.csv\n",
      "Processing folder: Germany-2-Bundesliga\n",
      "Processing file: 2020-2021.csv\n"
     ]
    },
    {
     "name": "stderr",
     "output_type": "stream",
     "text": [
      "C:\\Users\\Francesco\\AppData\\Local\\Temp\\ipykernel_7992\\1991877013.py:32: DtypeWarning: Columns (258) have mixed types. Specify dtype option on import or set low_memory=False.\n",
      "  df = pd.read_csv(file_path)\n"
     ]
    },
    {
     "name": "stdout",
     "output_type": "stream",
     "text": [
      "Finished processing file: 2020-2021.csv\n",
      "Processing file: 2021-2022.csv\n"
     ]
    },
    {
     "name": "stderr",
     "output_type": "stream",
     "text": [
      "C:\\Users\\Francesco\\AppData\\Local\\Temp\\ipykernel_7992\\1991877013.py:32: DtypeWarning: Columns (36,258) have mixed types. Specify dtype option on import or set low_memory=False.\n",
      "  df = pd.read_csv(file_path)\n"
     ]
    },
    {
     "name": "stdout",
     "output_type": "stream",
     "text": [
      "Finished processing file: 2021-2022.csv\n",
      "Processing file: 2022-2023.csv\n"
     ]
    },
    {
     "name": "stderr",
     "output_type": "stream",
     "text": [
      "C:\\Users\\Francesco\\AppData\\Local\\Temp\\ipykernel_7992\\1991877013.py:32: DtypeWarning: Columns (258) have mixed types. Specify dtype option on import or set low_memory=False.\n",
      "  df = pd.read_csv(file_path)\n"
     ]
    },
    {
     "name": "stdout",
     "output_type": "stream",
     "text": [
      "Finished processing file: 2022-2023.csv\n",
      "Processing file: 2023-2024.csv\n"
     ]
    },
    {
     "name": "stderr",
     "output_type": "stream",
     "text": [
      "C:\\Users\\Francesco\\AppData\\Local\\Temp\\ipykernel_7992\\1991877013.py:32: DtypeWarning: Columns (258) have mixed types. Specify dtype option on import or set low_memory=False.\n",
      "  df = pd.read_csv(file_path)\n"
     ]
    },
    {
     "name": "stdout",
     "output_type": "stream",
     "text": [
      "Finished processing file: 2023-2024.csv\n",
      "Processing file: 2024-2025.csv\n"
     ]
    },
    {
     "name": "stderr",
     "output_type": "stream",
     "text": [
      "C:\\Users\\Francesco\\AppData\\Local\\Temp\\ipykernel_7992\\1991877013.py:32: DtypeWarning: Columns (258) have mixed types. Specify dtype option on import or set low_memory=False.\n",
      "  df = pd.read_csv(file_path)\n"
     ]
    },
    {
     "name": "stdout",
     "output_type": "stream",
     "text": [
      "Finished processing file: 2024-2025.csv\n",
      "Processing folder: Germany-Bundesliga\n",
      "Processing file: 2020-2021.csv\n"
     ]
    },
    {
     "name": "stderr",
     "output_type": "stream",
     "text": [
      "C:\\Users\\Francesco\\AppData\\Local\\Temp\\ipykernel_7992\\1991877013.py:32: DtypeWarning: Columns (36,258) have mixed types. Specify dtype option on import or set low_memory=False.\n",
      "  df = pd.read_csv(file_path)\n"
     ]
    },
    {
     "name": "stdout",
     "output_type": "stream",
     "text": [
      "Finished processing file: 2020-2021.csv\n",
      "Processing file: 2021-2022.csv\n"
     ]
    },
    {
     "name": "stderr",
     "output_type": "stream",
     "text": [
      "C:\\Users\\Francesco\\AppData\\Local\\Temp\\ipykernel_7992\\1991877013.py:32: DtypeWarning: Columns (258) have mixed types. Specify dtype option on import or set low_memory=False.\n",
      "  df = pd.read_csv(file_path)\n"
     ]
    },
    {
     "name": "stdout",
     "output_type": "stream",
     "text": [
      "Finished processing file: 2021-2022.csv\n",
      "Processing file: 2022-2023.csv\n"
     ]
    },
    {
     "name": "stderr",
     "output_type": "stream",
     "text": [
      "C:\\Users\\Francesco\\AppData\\Local\\Temp\\ipykernel_7992\\1991877013.py:32: DtypeWarning: Columns (36,258) have mixed types. Specify dtype option on import or set low_memory=False.\n",
      "  df = pd.read_csv(file_path)\n"
     ]
    },
    {
     "name": "stdout",
     "output_type": "stream",
     "text": [
      "Finished processing file: 2022-2023.csv\n",
      "Processing file: 2023-2024.csv\n"
     ]
    },
    {
     "name": "stderr",
     "output_type": "stream",
     "text": [
      "C:\\Users\\Francesco\\AppData\\Local\\Temp\\ipykernel_7992\\1991877013.py:32: DtypeWarning: Columns (258) have mixed types. Specify dtype option on import or set low_memory=False.\n",
      "  df = pd.read_csv(file_path)\n"
     ]
    },
    {
     "name": "stdout",
     "output_type": "stream",
     "text": [
      "Finished processing file: 2023-2024.csv\n",
      "Processing file: 2024-2025.csv\n"
     ]
    },
    {
     "name": "stderr",
     "output_type": "stream",
     "text": [
      "C:\\Users\\Francesco\\AppData\\Local\\Temp\\ipykernel_7992\\1991877013.py:32: DtypeWarning: Columns (258) have mixed types. Specify dtype option on import or set low_memory=False.\n",
      "  df = pd.read_csv(file_path)\n"
     ]
    },
    {
     "name": "stdout",
     "output_type": "stream",
     "text": [
      "Finished processing file: 2024-2025.csv\n",
      "Processing folder: Italy-Serie-A\n",
      "Processing file: 2020-2021.csv\n"
     ]
    },
    {
     "name": "stderr",
     "output_type": "stream",
     "text": [
      "C:\\Users\\Francesco\\AppData\\Local\\Temp\\ipykernel_7992\\1991877013.py:32: DtypeWarning: Columns (258) have mixed types. Specify dtype option on import or set low_memory=False.\n",
      "  df = pd.read_csv(file_path)\n"
     ]
    },
    {
     "name": "stdout",
     "output_type": "stream",
     "text": [
      "Finished processing file: 2020-2021.csv\n",
      "Processing file: 2021-2022.csv\n"
     ]
    },
    {
     "name": "stderr",
     "output_type": "stream",
     "text": [
      "C:\\Users\\Francesco\\AppData\\Local\\Temp\\ipykernel_7992\\1991877013.py:32: DtypeWarning: Columns (258) have mixed types. Specify dtype option on import or set low_memory=False.\n",
      "  df = pd.read_csv(file_path)\n"
     ]
    },
    {
     "name": "stdout",
     "output_type": "stream",
     "text": [
      "Finished processing file: 2021-2022.csv\n",
      "Processing file: 2022-2023.csv\n"
     ]
    },
    {
     "name": "stderr",
     "output_type": "stream",
     "text": [
      "C:\\Users\\Francesco\\AppData\\Local\\Temp\\ipykernel_7992\\1991877013.py:32: DtypeWarning: Columns (258) have mixed types. Specify dtype option on import or set low_memory=False.\n",
      "  df = pd.read_csv(file_path)\n"
     ]
    },
    {
     "name": "stdout",
     "output_type": "stream",
     "text": [
      "Finished processing file: 2022-2023.csv\n",
      "Processing file: 2023-2024.csv\n"
     ]
    },
    {
     "name": "stderr",
     "output_type": "stream",
     "text": [
      "C:\\Users\\Francesco\\AppData\\Local\\Temp\\ipykernel_7992\\1991877013.py:32: DtypeWarning: Columns (36,258) have mixed types. Specify dtype option on import or set low_memory=False.\n",
      "  df = pd.read_csv(file_path)\n"
     ]
    },
    {
     "name": "stdout",
     "output_type": "stream",
     "text": [
      "Finished processing file: 2023-2024.csv\n",
      "Processing file: 2024-2025.csv\n"
     ]
    },
    {
     "name": "stderr",
     "output_type": "stream",
     "text": [
      "C:\\Users\\Francesco\\AppData\\Local\\Temp\\ipykernel_7992\\1991877013.py:32: DtypeWarning: Columns (258) have mixed types. Specify dtype option on import or set low_memory=False.\n",
      "  df = pd.read_csv(file_path)\n"
     ]
    },
    {
     "name": "stdout",
     "output_type": "stream",
     "text": [
      "Finished processing file: 2024-2025.csv\n",
      "Processing folder: Netherlands-Eredivisie\n",
      "Processing file: 2020-2021.csv\n"
     ]
    },
    {
     "name": "stderr",
     "output_type": "stream",
     "text": [
      "C:\\Users\\Francesco\\AppData\\Local\\Temp\\ipykernel_7992\\1991877013.py:32: DtypeWarning: Columns (35,258) have mixed types. Specify dtype option on import or set low_memory=False.\n",
      "  df = pd.read_csv(file_path)\n"
     ]
    },
    {
     "name": "stdout",
     "output_type": "stream",
     "text": [
      "Finished processing file: 2020-2021.csv\n",
      "Processing file: 2021-2022.csv\n"
     ]
    },
    {
     "name": "stderr",
     "output_type": "stream",
     "text": [
      "C:\\Users\\Francesco\\AppData\\Local\\Temp\\ipykernel_7992\\1991877013.py:32: DtypeWarning: Columns (21,36,258) have mixed types. Specify dtype option on import or set low_memory=False.\n",
      "  df = pd.read_csv(file_path)\n"
     ]
    },
    {
     "name": "stdout",
     "output_type": "stream",
     "text": [
      "Finished processing file: 2021-2022.csv\n",
      "Processing file: 2022-2023.csv\n"
     ]
    },
    {
     "name": "stderr",
     "output_type": "stream",
     "text": [
      "C:\\Users\\Francesco\\AppData\\Local\\Temp\\ipykernel_7992\\1991877013.py:32: DtypeWarning: Columns (35,258) have mixed types. Specify dtype option on import or set low_memory=False.\n",
      "  df = pd.read_csv(file_path)\n"
     ]
    },
    {
     "name": "stdout",
     "output_type": "stream",
     "text": [
      "Finished processing file: 2022-2023.csv\n",
      "Processing file: 2023-2024.csv\n"
     ]
    },
    {
     "name": "stderr",
     "output_type": "stream",
     "text": [
      "C:\\Users\\Francesco\\AppData\\Local\\Temp\\ipykernel_7992\\1991877013.py:32: DtypeWarning: Columns (258) have mixed types. Specify dtype option on import or set low_memory=False.\n",
      "  df = pd.read_csv(file_path)\n"
     ]
    },
    {
     "name": "stdout",
     "output_type": "stream",
     "text": [
      "Finished processing file: 2023-2024.csv\n",
      "Processing file: 2024-2025.csv\n"
     ]
    },
    {
     "name": "stderr",
     "output_type": "stream",
     "text": [
      "C:\\Users\\Francesco\\AppData\\Local\\Temp\\ipykernel_7992\\1991877013.py:32: DtypeWarning: Columns (30,258) have mixed types. Specify dtype option on import or set low_memory=False.\n",
      "  df = pd.read_csv(file_path)\n"
     ]
    },
    {
     "name": "stdout",
     "output_type": "stream",
     "text": [
      "Finished processing file: 2024-2025.csv\n",
      "Processing folder: Portugal-Liga-Portugal\n",
      "Processing file: 2020-2021.csv\n"
     ]
    },
    {
     "name": "stderr",
     "output_type": "stream",
     "text": [
      "C:\\Users\\Francesco\\AppData\\Local\\Temp\\ipykernel_7992\\1991877013.py:32: DtypeWarning: Columns (258) have mixed types. Specify dtype option on import or set low_memory=False.\n",
      "  df = pd.read_csv(file_path)\n"
     ]
    },
    {
     "name": "stdout",
     "output_type": "stream",
     "text": [
      "Finished processing file: 2020-2021.csv\n",
      "Processing file: 2021-2022.csv\n"
     ]
    },
    {
     "name": "stderr",
     "output_type": "stream",
     "text": [
      "C:\\Users\\Francesco\\AppData\\Local\\Temp\\ipykernel_7992\\1991877013.py:32: DtypeWarning: Columns (258) have mixed types. Specify dtype option on import or set low_memory=False.\n",
      "  df = pd.read_csv(file_path)\n"
     ]
    },
    {
     "name": "stdout",
     "output_type": "stream",
     "text": [
      "Finished processing file: 2021-2022.csv\n",
      "Processing file: 2022-2023.csv\n"
     ]
    },
    {
     "name": "stderr",
     "output_type": "stream",
     "text": [
      "C:\\Users\\Francesco\\AppData\\Local\\Temp\\ipykernel_7992\\1991877013.py:32: DtypeWarning: Columns (258) have mixed types. Specify dtype option on import or set low_memory=False.\n",
      "  df = pd.read_csv(file_path)\n"
     ]
    },
    {
     "name": "stdout",
     "output_type": "stream",
     "text": [
      "Finished processing file: 2022-2023.csv\n",
      "Processing file: 2023-2024.csv\n"
     ]
    },
    {
     "name": "stderr",
     "output_type": "stream",
     "text": [
      "C:\\Users\\Francesco\\AppData\\Local\\Temp\\ipykernel_7992\\1991877013.py:32: DtypeWarning: Columns (30,258) have mixed types. Specify dtype option on import or set low_memory=False.\n",
      "  df = pd.read_csv(file_path)\n"
     ]
    },
    {
     "name": "stdout",
     "output_type": "stream",
     "text": [
      "Finished processing file: 2023-2024.csv\n",
      "Processing file: 2024-2025.csv\n"
     ]
    },
    {
     "name": "stderr",
     "output_type": "stream",
     "text": [
      "C:\\Users\\Francesco\\AppData\\Local\\Temp\\ipykernel_7992\\1991877013.py:32: DtypeWarning: Columns (258) have mixed types. Specify dtype option on import or set low_memory=False.\n",
      "  df = pd.read_csv(file_path)\n"
     ]
    },
    {
     "name": "stdout",
     "output_type": "stream",
     "text": [
      "Finished processing file: 2024-2025.csv\n",
      "Processing folder: Scotland-Premiership\n",
      "Processing file: 2020-2021.csv\n"
     ]
    },
    {
     "name": "stderr",
     "output_type": "stream",
     "text": [
      "C:\\Users\\Francesco\\AppData\\Local\\Temp\\ipykernel_7992\\1991877013.py:32: DtypeWarning: Columns (258) have mixed types. Specify dtype option on import or set low_memory=False.\n",
      "  df = pd.read_csv(file_path)\n"
     ]
    },
    {
     "name": "stdout",
     "output_type": "stream",
     "text": [
      "Finished processing file: 2020-2021.csv\n",
      "Processing file: 2021-2022.csv\n"
     ]
    },
    {
     "name": "stderr",
     "output_type": "stream",
     "text": [
      "C:\\Users\\Francesco\\AppData\\Local\\Temp\\ipykernel_7992\\1991877013.py:32: DtypeWarning: Columns (258) have mixed types. Specify dtype option on import or set low_memory=False.\n",
      "  df = pd.read_csv(file_path)\n"
     ]
    },
    {
     "name": "stdout",
     "output_type": "stream",
     "text": [
      "Finished processing file: 2021-2022.csv\n",
      "Processing file: 2022-2023.csv\n"
     ]
    },
    {
     "name": "stderr",
     "output_type": "stream",
     "text": [
      "C:\\Users\\Francesco\\AppData\\Local\\Temp\\ipykernel_7992\\1991877013.py:32: DtypeWarning: Columns (35,37,38,258) have mixed types. Specify dtype option on import or set low_memory=False.\n",
      "  df = pd.read_csv(file_path)\n"
     ]
    },
    {
     "name": "stdout",
     "output_type": "stream",
     "text": [
      "Finished processing file: 2022-2023.csv\n",
      "Processing file: 2023-2024.csv\n"
     ]
    },
    {
     "name": "stderr",
     "output_type": "stream",
     "text": [
      "C:\\Users\\Francesco\\AppData\\Local\\Temp\\ipykernel_7992\\1991877013.py:32: DtypeWarning: Columns (36,258) have mixed types. Specify dtype option on import or set low_memory=False.\n",
      "  df = pd.read_csv(file_path)\n"
     ]
    },
    {
     "name": "stdout",
     "output_type": "stream",
     "text": [
      "Finished processing file: 2023-2024.csv\n",
      "Processing file: 2024-2025.csv\n"
     ]
    },
    {
     "name": "stderr",
     "output_type": "stream",
     "text": [
      "C:\\Users\\Francesco\\AppData\\Local\\Temp\\ipykernel_7992\\1991877013.py:32: DtypeWarning: Columns (258) have mixed types. Specify dtype option on import or set low_memory=False.\n",
      "  df = pd.read_csv(file_path)\n"
     ]
    },
    {
     "name": "stdout",
     "output_type": "stream",
     "text": [
      "Finished processing file: 2024-2025.csv\n",
      "Processing folder: Spain-LaLiga\n",
      "Processing file: 2020-2021.csv\n"
     ]
    },
    {
     "name": "stderr",
     "output_type": "stream",
     "text": [
      "C:\\Users\\Francesco\\AppData\\Local\\Temp\\ipykernel_7992\\1991877013.py:32: DtypeWarning: Columns (36,258) have mixed types. Specify dtype option on import or set low_memory=False.\n",
      "  df = pd.read_csv(file_path)\n"
     ]
    },
    {
     "name": "stdout",
     "output_type": "stream",
     "text": [
      "Finished processing file: 2020-2021.csv\n",
      "Processing file: 2021-2022.csv\n"
     ]
    },
    {
     "name": "stderr",
     "output_type": "stream",
     "text": [
      "C:\\Users\\Francesco\\AppData\\Local\\Temp\\ipykernel_7992\\1991877013.py:32: DtypeWarning: Columns (28,258) have mixed types. Specify dtype option on import or set low_memory=False.\n",
      "  df = pd.read_csv(file_path)\n"
     ]
    },
    {
     "name": "stdout",
     "output_type": "stream",
     "text": [
      "Finished processing file: 2021-2022.csv\n",
      "Processing file: 2022-2023.csv\n"
     ]
    },
    {
     "name": "stderr",
     "output_type": "stream",
     "text": [
      "C:\\Users\\Francesco\\AppData\\Local\\Temp\\ipykernel_7992\\1991877013.py:32: DtypeWarning: Columns (258) have mixed types. Specify dtype option on import or set low_memory=False.\n",
      "  df = pd.read_csv(file_path)\n"
     ]
    },
    {
     "name": "stdout",
     "output_type": "stream",
     "text": [
      "Finished processing file: 2022-2023.csv\n",
      "Processing file: 2023-2024.csv\n"
     ]
    },
    {
     "name": "stderr",
     "output_type": "stream",
     "text": [
      "C:\\Users\\Francesco\\AppData\\Local\\Temp\\ipykernel_7992\\1991877013.py:32: DtypeWarning: Columns (258) have mixed types. Specify dtype option on import or set low_memory=False.\n",
      "  df = pd.read_csv(file_path)\n"
     ]
    },
    {
     "name": "stdout",
     "output_type": "stream",
     "text": [
      "Finished processing file: 2023-2024.csv\n",
      "Processing file: 2024-2025.csv\n"
     ]
    },
    {
     "name": "stderr",
     "output_type": "stream",
     "text": [
      "C:\\Users\\Francesco\\AppData\\Local\\Temp\\ipykernel_7992\\1991877013.py:32: DtypeWarning: Columns (258) have mixed types. Specify dtype option on import or set low_memory=False.\n",
      "  df = pd.read_csv(file_path)\n"
     ]
    },
    {
     "name": "stdout",
     "output_type": "stream",
     "text": [
      "Finished processing file: 2024-2025.csv\n",
      "Processing folder: Turkey-SuperLig\n",
      "Processing file: 2020-2021.csv\n"
     ]
    },
    {
     "name": "stderr",
     "output_type": "stream",
     "text": [
      "C:\\Users\\Francesco\\AppData\\Local\\Temp\\ipykernel_7992\\1991877013.py:32: DtypeWarning: Columns (35,258) have mixed types. Specify dtype option on import or set low_memory=False.\n",
      "  df = pd.read_csv(file_path)\n"
     ]
    },
    {
     "name": "stdout",
     "output_type": "stream",
     "text": [
      "Finished processing file: 2020-2021.csv\n",
      "Processing file: 2021-2022.csv\n"
     ]
    },
    {
     "name": "stderr",
     "output_type": "stream",
     "text": [
      "C:\\Users\\Francesco\\AppData\\Local\\Temp\\ipykernel_7992\\1991877013.py:32: DtypeWarning: Columns (36,258) have mixed types. Specify dtype option on import or set low_memory=False.\n",
      "  df = pd.read_csv(file_path)\n"
     ]
    },
    {
     "name": "stdout",
     "output_type": "stream",
     "text": [
      "Finished processing file: 2021-2022.csv\n",
      "Processing file: 2022-2023.csv\n"
     ]
    },
    {
     "name": "stderr",
     "output_type": "stream",
     "text": [
      "C:\\Users\\Francesco\\AppData\\Local\\Temp\\ipykernel_7992\\1991877013.py:32: DtypeWarning: Columns (36,258) have mixed types. Specify dtype option on import or set low_memory=False.\n",
      "  df = pd.read_csv(file_path)\n"
     ]
    },
    {
     "name": "stdout",
     "output_type": "stream",
     "text": [
      "Finished processing file: 2022-2023.csv\n",
      "Processing file: 2023-2024.csv\n"
     ]
    },
    {
     "name": "stderr",
     "output_type": "stream",
     "text": [
      "C:\\Users\\Francesco\\AppData\\Local\\Temp\\ipykernel_7992\\1991877013.py:32: DtypeWarning: Columns (258) have mixed types. Specify dtype option on import or set low_memory=False.\n",
      "  df = pd.read_csv(file_path)\n"
     ]
    },
    {
     "name": "stdout",
     "output_type": "stream",
     "text": [
      "Finished processing file: 2023-2024.csv\n",
      "Processing file: 2024-2025.csv\n"
     ]
    },
    {
     "name": "stderr",
     "output_type": "stream",
     "text": [
      "C:\\Users\\Francesco\\AppData\\Local\\Temp\\ipykernel_7992\\1991877013.py:32: DtypeWarning: Columns (258) have mixed types. Specify dtype option on import or set low_memory=False.\n",
      "  df = pd.read_csv(file_path)\n"
     ]
    },
    {
     "name": "stdout",
     "output_type": "stream",
     "text": [
      "Finished processing file: 2024-2025.csv\n",
      "Processing folder: USA-Major-League-Soccer\n",
      "Processing file: 2020.csv\n"
     ]
    },
    {
     "name": "stderr",
     "output_type": "stream",
     "text": [
      "C:\\Users\\Francesco\\AppData\\Local\\Temp\\ipykernel_7992\\1991877013.py:32: DtypeWarning: Columns (21,258) have mixed types. Specify dtype option on import or set low_memory=False.\n",
      "  df = pd.read_csv(file_path)\n"
     ]
    },
    {
     "name": "stdout",
     "output_type": "stream",
     "text": [
      "Finished processing file: 2020.csv\n",
      "Processing file: 2021.csv\n"
     ]
    },
    {
     "name": "stderr",
     "output_type": "stream",
     "text": [
      "C:\\Users\\Francesco\\AppData\\Local\\Temp\\ipykernel_7992\\1991877013.py:32: DtypeWarning: Columns (21,35,258) have mixed types. Specify dtype option on import or set low_memory=False.\n",
      "  df = pd.read_csv(file_path)\n"
     ]
    },
    {
     "name": "stdout",
     "output_type": "stream",
     "text": [
      "Finished processing file: 2021.csv\n",
      "Processing file: 2022.csv\n"
     ]
    },
    {
     "name": "stderr",
     "output_type": "stream",
     "text": [
      "C:\\Users\\Francesco\\AppData\\Local\\Temp\\ipykernel_7992\\1991877013.py:32: DtypeWarning: Columns (21,258) have mixed types. Specify dtype option on import or set low_memory=False.\n",
      "  df = pd.read_csv(file_path)\n"
     ]
    },
    {
     "name": "stdout",
     "output_type": "stream",
     "text": [
      "Finished processing file: 2022.csv\n",
      "Processing file: 2023.csv\n"
     ]
    },
    {
     "name": "stderr",
     "output_type": "stream",
     "text": [
      "C:\\Users\\Francesco\\AppData\\Local\\Temp\\ipykernel_7992\\1991877013.py:32: DtypeWarning: Columns (21,258) have mixed types. Specify dtype option on import or set low_memory=False.\n",
      "  df = pd.read_csv(file_path)\n"
     ]
    },
    {
     "name": "stdout",
     "output_type": "stream",
     "text": [
      "Finished processing file: 2023.csv\n",
      "Processing file: 2024.csv\n"
     ]
    },
    {
     "name": "stderr",
     "output_type": "stream",
     "text": [
      "C:\\Users\\Francesco\\AppData\\Local\\Temp\\ipykernel_7992\\1991877013.py:32: DtypeWarning: Columns (21,30,258) have mixed types. Specify dtype option on import or set low_memory=False.\n",
      "  df = pd.read_csv(file_path)\n"
     ]
    },
    {
     "name": "stdout",
     "output_type": "stream",
     "text": [
      "Finished processing file: 2024.csv\n",
      "All files processed successfully.\n"
     ]
    }
   ],
   "source": [
    "# This cell computes the played time for each player on each match in the entire dataset (spread out over multiple csv files)\n",
    "\n",
    "import pandas as pd\n",
    "import ast\n",
    "import os\n",
    "\n",
    "# Path to the main directory containing subfolders with CSV files\n",
    "main_dir = os.getcwd()\n",
    "\n",
    "# Output file to save results\n",
    "output_file = 'minutes-played.csv'\n",
    "\n",
    "# Check if output file exists\n",
    "file_exists = os.path.isfile(output_file)\n",
    "\n",
    "# Iterate through each subfolder in the main directory\n",
    "for subfolder in os.listdir(main_dir):\n",
    "    subfolder_path = os.path.join(main_dir, subfolder)\n",
    "\n",
    "    # Check if it is a directory\n",
    "    if os.path.isdir(subfolder_path):\n",
    "        print(f\"Processing folder: {subfolder}\")\n",
    "\n",
    "        # Iterate through all CSV files in the subfolder\n",
    "        for file in os.listdir(subfolder_path):\n",
    "            if file.endswith('.csv'):\n",
    "                file_path = os.path.join(subfolder_path, file)\n",
    "                print(f\"Processing file: {file}\")\n",
    "\n",
    "                # Extract the season from the file name\n",
    "                season = file.replace(\".csv\", \"\")\n",
    "\n",
    "                # Read the CSV file\n",
    "                df = pd.read_csv(file_path)\n",
    "\n",
    "                # Add the 'season' column with the same value for all rows\n",
    "                df['season'] = season\n",
    "                # Create a dictionary for playerName using the first occurrence of playerId\n",
    "                player_name_dict = dict(zip(df['playerId'], df['playerName']))\n",
    "\n",
    "                # Initialize an empty list for all match results\n",
    "                all_results = []\n",
    "\n",
    "                # Iterate over each unique matchId in the dataset\n",
    "                for match_id in df['matchId'].unique():\n",
    "                    match_df = df[df['matchId'] == match_id]\n",
    "                    \n",
    "                    # Get the total match minutes (the full duration of the match) from the 'End' event in the second half\n",
    "                    end_event = match_df[(match_df['period'] == 'SecondHalf') & \n",
    "                                        (match_df['type'] == 'End')]\n",
    "                    if not end_event.empty:\n",
    "                        total_match_minutes = end_event.iloc[0]['expandedMinute']\n",
    "                    else:\n",
    "                        continue  # Skip this match if the \"End\" event is missing\n",
    "\n",
    "                    # Filter for Substitution events (both SubstitutionOn and SubstitutionOff) and Red Card events for the current match\n",
    "                    subs_off = match_df[match_df['type'] == 'SubstitutionOff']\n",
    "                    subs_on = match_df[match_df['type'] == 'SubstitutionOn']\n",
    "                    red_card_events = match_df[match_df['redCard'] == True]\n",
    "\n",
    "                    # Filter for PreMatch event to find starters for home and away teams\n",
    "                    home_formation = match_df[(match_df['period'] == 'PreMatch') & \n",
    "                                            (match_df['type'] == 'FormationSet') & \n",
    "                                            (match_df['h_a'] == 'h')]\n",
    "\n",
    "                    away_formation = match_df[(match_df['period'] == 'PreMatch') & \n",
    "                                            (match_df['type'] == 'FormationSet') & \n",
    "                                            (match_df['h_a'] == 'a')]\n",
    "\n",
    "                    if home_formation.empty or away_formation.empty:\n",
    "                        continue  # Skip if no formation info\n",
    "\n",
    "                    # Parse qualifiers to get involved players (starters)\n",
    "                    home_qualifiers = ast.literal_eval(home_formation.iloc[0]['qualifiers'])\n",
    "                    away_qualifiers = ast.literal_eval(away_formation.iloc[0]['qualifiers'])\n",
    "\n",
    "                    # Get involved players and take only the first 11 for starters\n",
    "                    home_involved_players = next(q['value'] for q in home_qualifiers if q['type'] == 'InvolvedPlayers')\n",
    "                    away_involved_players = next(q['value'] for q in away_qualifiers if q['type'] == 'InvolvedPlayers')\n",
    "\n",
    "                    home_starters = list(map(int, home_involved_players.split(',')[:11]))\n",
    "                    away_starters = list(map(int, away_involved_players.split(',')[:11]))\n",
    "\n",
    "                    # Initialize a list for the current match's results\n",
    "                    match_results = []\n",
    "\n",
    "                    # Process home starters\n",
    "                    for player_id in home_starters:\n",
    "                        # Check if the player was substituted off\n",
    "                        sub_off_event = subs_off[subs_off['playerId'] == player_id]\n",
    "                        if not sub_off_event.empty:\n",
    "                            minutes_played = sub_off_event.iloc[0]['expandedMinute']\n",
    "                        else:\n",
    "                            minutes_played = total_match_minutes\n",
    "\n",
    "                        # Check for red card\n",
    "                        red_card_event = red_card_events[red_card_events['playerId'] == player_id]\n",
    "                        if not red_card_event.empty:\n",
    "                            minutes_played = red_card_event.iloc[0]['expandedMinute']  # Red card minute overrides\n",
    "\n",
    "                        match_results.append({\n",
    "                            'season': season,\n",
    "                            'matchId': match_id,\n",
    "                            'playerId': player_id,\n",
    "                            'playerName': player_name_dict.get(player_id, 'Unknown'),\n",
    "                            'teamId': home_formation.iloc[0]['teamId'],\n",
    "                            'minutesPlayed': minutes_played\n",
    "                        })\n",
    "\n",
    "                    # Process away starters\n",
    "                    for player_id in away_starters:\n",
    "                        # Check if the player was substituted off\n",
    "                        sub_off_event = subs_off[subs_off['playerId'] == player_id]\n",
    "                        if not sub_off_event.empty:\n",
    "                            minutes_played = sub_off_event.iloc[0]['expandedMinute']\n",
    "                        else:\n",
    "                            minutes_played = total_match_minutes\n",
    "\n",
    "                        # Check for red card\n",
    "                        red_card_event = red_card_events[red_card_events['playerId'] == player_id]\n",
    "                        if not red_card_event.empty:\n",
    "                            minutes_played = red_card_event.iloc[0]['expandedMinute']  # Red card minute overrides\n",
    "\n",
    "                        match_results.append({\n",
    "                            'season': season,\n",
    "                            'matchId': match_id,\n",
    "                            'playerId': player_id,\n",
    "                            'playerName': player_name_dict.get(player_id, 'Unknown'),\n",
    "                            'teamId': away_formation.iloc[0]['teamId'],\n",
    "                            'minutesPlayed': minutes_played\n",
    "                        })\n",
    "\n",
    "                    # Process substitute players\n",
    "                    for _, sub_on_event in subs_on[subs_on['matchId'] == match_id].iterrows():\n",
    "                        player_id = sub_on_event['playerId']\n",
    "                        sub_off_event = subs_off[subs_off['playerId'] == player_id]\n",
    "                        if not sub_off_event.empty:\n",
    "                            minutes_played = sub_off_event.iloc[0]['expandedMinute'] - sub_on_event['expandedMinute']\n",
    "                        else:\n",
    "                            minutes_played = total_match_minutes - sub_on_event['expandedMinute']\n",
    "\n",
    "                        # Check for red card\n",
    "                        red_card_event = red_card_events[red_card_events['playerId'] == player_id]\n",
    "                        if not red_card_event.empty:\n",
    "                            minutes_played = red_card_event.iloc[0]['expandedMinute'] - sub_on_event['expandedMinute']  # Red card minute overrides\n",
    "                        \n",
    "                        # Add player if not already added (prevent duplicates)\n",
    "                        if not any(result['playerId'] == player_id for result in match_results):\n",
    "                            match_results.append({\n",
    "                                'season': season,\n",
    "                                'matchId': sub_on_event['matchId'],\n",
    "                                'playerId': player_id,\n",
    "                                'playerName': player_name_dict.get(player_id, 'Unknown'),\n",
    "                                'teamId': sub_on_event['teamId'],\n",
    "                                'minutesPlayed': minutes_played\n",
    "                            })\n",
    "\n",
    "                    # Add the match results to the overall list\n",
    "                    all_results.extend(match_results)\n",
    "\n",
    "                # Convert results to a DataFrame\n",
    "                result_df = pd.DataFrame(all_results)\n",
    "\n",
    "                # Save to the output CSV file\n",
    "                if not file_exists:\n",
    "                    # Create the file and save the data\n",
    "                    result_df.to_csv(output_file, index=False, mode='w')\n",
    "                    file_exists = True  # Now the file exists\n",
    "                else:\n",
    "                    # Append to the existing file\n",
    "                    result_df.to_csv(output_file, index=False, header=False, mode='a')\n",
    "\n",
    "                # Release memory for the current DataFrame\n",
    "                del df, result_df\n",
    "                print(f\"Finished processing file: {file}\")\n",
    "\n",
    "# Inform user that all files were processed\n",
    "print(\"All files processed successfully.\")"
   ]
  },
  {
   "cell_type": "code",
   "execution_count": null,
   "metadata": {},
   "outputs": [],
   "source": [
    "# This cell computes played time for each match in a single csv file\n",
    "\n",
    "# Load the dataset\n",
    "file_path = \"Italy-Serie-A/2024-2025.csv\"\n",
    "df = pd.read_csv(file_path)\n",
    "\n",
    "# Extract the season from the file name\n",
    "season = file_path.split(\"/\")[-1].replace(\".csv\", \"\")\n",
    "\n",
    "# Create a dictionary for playerName using first occurrence of playerId\n",
    "player_name_dict = dict(zip(df['playerId'], df['playerName']))\n",
    "\n",
    "# Initialize an empty list for all match results\n",
    "all_results = []\n",
    "\n",
    "# Iterate over each unique matchId in the dataset\n",
    "for match_id in df['matchId'].unique():\n",
    "    match_df = df[df['matchId'] == match_id]\n",
    "    \n",
    "    # Get the total match minutes (the full duration of the match) from the 'End' event in the second half\n",
    "    end_event = match_df[(match_df['period'] == 'SecondHalf') & \n",
    "                          (match_df['type'] == 'End')].iloc[0]\n",
    "    total_match_minutes = end_event['expandedMinute']\n",
    "\n",
    "    # Filter for Substitution events (both SubstitutionOn and SubstitutionOff) and Red Card events for the current match\n",
    "    subs_off = match_df[match_df['type'] == 'SubstitutionOff']\n",
    "    subs_on = match_df[match_df['type'] == 'SubstitutionOn']\n",
    "    red_card_events = match_df[match_df['redCard'] == True]\n",
    "\n",
    "    # Filter for PreMatch event to find starters for home and away teams\n",
    "    home_formation = match_df[(match_df['period'] == 'PreMatch') & \n",
    "                               (match_df['type'] == 'FormationSet') & \n",
    "                               (match_df['h_a'] == 'h')].iloc[0]\n",
    "\n",
    "    away_formation = match_df[(match_df['period'] == 'PreMatch') & \n",
    "                               (match_df['type'] == 'FormationSet') & \n",
    "                               (match_df['h_a'] == 'a')].iloc[0]\n",
    "\n",
    "    # Parse qualifiers to get involved players (starters)\n",
    "    home_qualifiers = ast.literal_eval(home_formation['qualifiers'])\n",
    "    away_qualifiers = ast.literal_eval(away_formation['qualifiers'])\n",
    "\n",
    "    # Get involved players and take only the first 11 for starters\n",
    "    home_involved_players = next(q['value'] for q in home_qualifiers if q['type'] == 'InvolvedPlayers')\n",
    "    away_involved_players = next(q['value'] for q in away_qualifiers if q['type'] == 'InvolvedPlayers')\n",
    "\n",
    "    home_starters = list(map(int, home_involved_players.split(',')[:11]))\n",
    "    away_starters = list(map(int, away_involved_players.split(',')[:11]))\n",
    "\n",
    "    # Initialize a list for the current match's results\n",
    "    match_results = []\n",
    "\n",
    "    # Process home starters\n",
    "    for player_id in home_starters:\n",
    "        # Check if the player was substituted off\n",
    "        sub_off_event = subs_off[subs_off['playerId'] == player_id]\n",
    "        if not sub_off_event.empty:\n",
    "            minutes_played = sub_off_event.iloc[0]['expandedMinute']\n",
    "        else:\n",
    "            minutes_played = total_match_minutes\n",
    "\n",
    "        # Check for red card\n",
    "        red_card_event = red_card_events[red_card_events['playerId'] == player_id]\n",
    "        if not red_card_event.empty:\n",
    "            minutes_played = red_card_event.iloc[0]['expandedMinute']  # Red card minute overrides\n",
    "\n",
    "        match_results.append({\n",
    "            'season': season,\n",
    "            'matchId': match_id,\n",
    "            'playerId': player_id,\n",
    "            'playerName': player_name_dict.get(player_id, 'Unknown'),\n",
    "            'teamId': home_formation['teamId'],\n",
    "            'minutesPlayed': minutes_played\n",
    "        })\n",
    "\n",
    "    # Process away starters\n",
    "    for player_id in away_starters:\n",
    "        # Check if the player was substituted off\n",
    "        sub_off_event = subs_off[subs_off['playerId'] == player_id]\n",
    "        if not sub_off_event.empty:\n",
    "            minutes_played = sub_off_event.iloc[0]['expandedMinute']\n",
    "        else:\n",
    "            minutes_played = total_match_minutes\n",
    "\n",
    "        # Check for red card\n",
    "        red_card_event = red_card_events[red_card_events['playerId'] == player_id]\n",
    "        if not red_card_event.empty:\n",
    "            minutes_played = red_card_event.iloc[0]['expandedMinute']  # Red card minute overrides\n",
    "\n",
    "        match_results.append({\n",
    "            'season': season,\n",
    "            'matchId': match_id,\n",
    "            'playerId': player_id,\n",
    "            'playerName': player_name_dict.get(player_id, 'Unknown'),\n",
    "            'teamId': away_formation['teamId'],\n",
    "            'minutesPlayed': minutes_played\n",
    "        })\n",
    "\n",
    "    # Process substitute players\n",
    "    for _, sub_on_event in subs_on[subs_on['matchId'] == match_id].iterrows():\n",
    "        player_id = sub_on_event['playerId']\n",
    "        sub_off_event = subs_off[subs_off['playerId'] == player_id]\n",
    "        if not sub_off_event.empty:\n",
    "            minutes_played = sub_off_event.iloc[0]['expandedMinute'] - sub_on_event['expandedMinute']\n",
    "        else:\n",
    "            minutes_played = total_match_minutes - sub_on_event['expandedMinute']\n",
    "\n",
    "        # Check for red card\n",
    "        red_card_event = red_card_events[red_card_events['playerId'] == player_id]\n",
    "        if not red_card_event.empty:\n",
    "            minutes_played = red_card_event.iloc[0]['expandedMinute'] - sub_on_event['expandedMinute']  # Red card minute overrides\n",
    "        \n",
    "        # Add player if not already added (prevent duplicates)\n",
    "        if not any(result['playerId'] == player_id for result in match_results):\n",
    "            match_results.append({\n",
    "                'season': season,\n",
    "                'matchId': sub_on_event['matchId'],\n",
    "                'playerId': player_id,\n",
    "                'playerName': player_name_dict.get(player_id, 'Unknown'),\n",
    "                'teamId': sub_on_event['teamId'],\n",
    "                'minutesPlayed': minutes_played\n",
    "            })\n",
    "\n",
    "    # Add the match results to the overall list\n",
    "    all_results.extend(match_results)\n",
    "\n",
    "# Convert results to a DataFrame\n",
    "result_df = pd.DataFrame(all_results)\n",
    "\n",
    "# Display the resulting table\n",
    "print(result_df)\n"
   ]
  }
 ],
 "metadata": {
  "kernelspec": {
   "display_name": "NBA_Project",
   "language": "python",
   "name": "python3"
  },
  "language_info": {
   "codemirror_mode": {
    "name": "ipython",
    "version": 3
   },
   "file_extension": ".py",
   "mimetype": "text/x-python",
   "name": "python",
   "nbconvert_exporter": "python",
   "pygments_lexer": "ipython3",
   "version": "3.8.19"
  }
 },
 "nbformat": 4,
 "nbformat_minor": 2
}
